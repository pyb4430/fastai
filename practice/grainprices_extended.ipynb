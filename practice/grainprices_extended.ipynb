{
 "cells": [
  {
   "cell_type": "code",
   "execution_count": 1,
   "metadata": {},
   "outputs": [],
   "source": [
    "%matplotlib inline\n",
    "%reload_ext autoreload\n",
    "%autoreload 2"
   ]
  },
  {
   "cell_type": "code",
   "execution_count": 213,
   "metadata": {},
   "outputs": [],
   "source": [
    "from fastai.structured import *\n",
    "from fastai.column_data import *\n",
    "import operator\n",
    "from sklearn.ensemble import RandomForestRegressor, RandomForestClassifier"
   ]
  },
  {
   "cell_type": "code",
   "execution_count": 3,
   "metadata": {},
   "outputs": [],
   "source": [
    "PATH='data/grainprices/'"
   ]
  },
  {
   "cell_type": "markdown",
   "metadata": {},
   "source": [
    "## Gather weather data ##"
   ]
  },
  {
   "cell_type": "markdown",
   "metadata": {},
   "source": [
    "### Download data ###\n",
    "Don't need to do this more than once"
   ]
  },
  {
   "cell_type": "code",
   "execution_count": 4,
   "metadata": {},
   "outputs": [],
   "source": [
    "import requests\n",
    "tavg_url = 'https://www.ncdc.noaa.gov/cag/statewide/time-series/%d-tavg-all-1-1895-2018.csv?base_prd=true&begbaseyear=1895&endbaseyear=2018'\n",
    "pcp_url = 'https://www.ncdc.noaa.gov/cag/statewide/time-series/%d-pcp-all-1-1895-2018.csv?base_prd=true&begbaseyear=1895&endbaseyear=2018'\n",
    "mean_temp_dir = f'{PATH}weather/mean_temp'\n",
    "pcp_dir = f'{PATH}weather/pcp'\n",
    "if not os.path.exists(f'{PATH}weather'):\n",
    "    os.mkdir(f'{PATH}weather')\n",
    "    os.mkdir(pcp_dir)\n",
    "    os.mkdir(mean_temp_dir)\n",
    "    \n",
    "def get_url_for_states(url, file_path):\n",
    "    state = 1\n",
    "    while True:\n",
    "        r = requests.get(url % state)\n",
    "        if r.status_code != 200:\n",
    "            break\n",
    "        fn = r.content.split(b',')[0].decode('utf-8')\n",
    "        with open(file_path % fn, 'wb') as f:  \n",
    "            f.write(b'\\n'.join(r.content.splitlines()[4:]))\n",
    "        r.close()\n",
    "        state += 1\n",
    "\n",
    "get_url_for_states(tavg_url, f'{mean_temp_dir}/%s.csv')\n",
    "get_url_for_states(pcp_url, f'{pcp_dir}/%s.csv')\n",
    "    "
   ]
  },
  {
   "cell_type": "markdown",
   "metadata": {},
   "source": [
    "### Process Data in Dataframe ###"
   ]
  },
  {
   "cell_type": "code",
   "execution_count": 32,
   "metadata": {},
   "outputs": [],
   "source": [
    "def construct_df_from_dir(path, value_name):\n",
    "    df = None\n",
    "    for fn in os.listdir(mean_temp_dir):\n",
    "        state = fn.split('.')[0].upper()\n",
    "        df_state = pd.read_csv(f'{path}/{fn}')\n",
    "\n",
    "        df_ed = df_state.Date.astype(str).str\n",
    "        df_state['Year'] = df_ed[0:4].astype('int32')\n",
    "        df_state['Month'] = df_ed[4:].astype('int32')\n",
    "        df_state['State'] = state\n",
    "        df_state.rename(columns={'Value': value_name}, inplace=True)\n",
    "        df_state.drop(columns=['Anomaly', 'Date'], inplace=True)\n",
    "        if df is None:\n",
    "            df = df_state\n",
    "        else:\n",
    "            df = df.append(df_state)\n",
    "    return df\n",
    "\n",
    "mt_df = construct_df_from_dir(mean_temp_dir, 'MeanTemp')\n",
    "pcp_df = construct_df_from_dir(pcp_dir, 'Precipitation').set_index(['State', 'Year', 'Month'])\n",
    "\n",
    "weather_df = mt_df.join(pcp_df, how='left', on=['State', 'Year', 'Month'], rsuffix = '_').set_index(['State', 'Year', 'Month'])\n",
    "weather_df.reset_index().to_feather(f'{PATH}weather_df')"
   ]
  },
  {
   "cell_type": "markdown",
   "metadata": {},
   "source": [
    "## Prepare Grain Price Dataframe ##"
   ]
  },
  {
   "cell_type": "code",
   "execution_count": 149,
   "metadata": {},
   "outputs": [],
   "source": [
    "df = pd.read_csv(f'{PATH}monthly_state_grain_prices.csv', na_values=(' (D)', ' (S)'))\n",
    "df.drop(['Program', 'Week Ending', 'State ANSI', 'Ag District', 'Ag District Code', 'County', 'County ANSI', 'Zip Code', 'Geo Level', 'Region', 'Domain', 'watershed_code', 'Watershed', 'Commodity', 'Data Item', 'Domain Category', 'CV (%)'], axis=1, inplace=True)\n",
    "df = df.rename(columns={'Period': 'Month'})\n",
    "df = df[pd.notnull(df['Value'])].infer_objects()"
   ]
  },
  {
   "cell_type": "code",
   "execution_count": 150,
   "metadata": {},
   "outputs": [],
   "source": [
    "month_to_num = {'JAN': 1, 'FEB': 2, 'MAR': 3, 'APR': 4, 'MAY': 5, 'JUN': 6, 'JUL': 7, 'AUG': 8, 'SEP': 9, 'OCT': 10, 'NOV': 11, 'DEC': 12}\n",
    "df.Month = df.Month.apply(lambda month: month_to_num[month])\n",
    "df = df.reset_index(drop=True)\n",
    "df = df.join(weather_df, how='left', on=['State', 'Year', 'Month'], rsuffix = '_')"
   ]
  },
  {
   "cell_type": "markdown",
   "metadata": {},
   "source": [
    "Add lag column for precipitation, this step seems to take a while"
   ]
  },
  {
   "cell_type": "code",
   "execution_count": 151,
   "metadata": {
    "scrolled": true
   },
   "outputs": [
    {
     "name": "stdout",
     "output_type": "stream",
     "text": [
      "       Year  Month           State  Value  MeanTemp  Precipitation  \\\n",
      "0      2018      1        COLORADO   3.62      29.8           0.81   \n",
      "1      2018      1           IDAHO   4.68      30.5           2.80   \n",
      "2      2018      1        ILLINOIS   5.08      24.1           1.29   \n",
      "4      2018      1          KANSAS   3.94      29.8           0.39   \n",
      "5      2018      1        MICHIGAN   4.43      20.0           1.74   \n",
      "6      2018      1       MINNESOTA   5.75      10.4           0.56   \n",
      "7      2018      1        MISSOURI   4.69      28.1           1.64   \n",
      "8      2018      1         MONTANA   5.34      21.7           1.15   \n",
      "9      2018      1        NEBRASKA   3.62      23.1           0.72   \n",
      "10     2018      1  NORTH CAROLINA   5.11      35.8           3.77   \n",
      "11     2018      1    NORTH DAKOTA   5.73      11.8           0.23   \n",
      "12     2018      1            OHIO   4.52      25.0           2.31   \n",
      "13     2018      1        OKLAHOMA   3.81      36.7           0.53   \n",
      "14     2018      1          OREGON   5.10      37.5           4.13   \n",
      "15     2018      1    SOUTH DAKOTA   5.21      18.0           0.30   \n",
      "16     2018      1      WASHINGTON   4.82      35.3           7.74   \n",
      "17     2018      2        COLORADO   4.11      28.7           1.12   \n",
      "18     2018      2           IDAHO   4.56      26.3           2.33   \n",
      "19     2018      2        ILLINOIS   4.65      31.8           4.89   \n",
      "20     2018      2         INDIANA   4.79      35.0           5.89   \n",
      "21     2018      2          KANSAS   4.30      31.8           0.60   \n",
      "22     2018      2        MICHIGAN   4.50      23.0           2.97   \n",
      "23     2018      2       MINNESOTA   5.64       8.6           1.01   \n",
      "24     2018      2        MISSOURI   4.77      35.6           4.89   \n",
      "25     2018      2         MONTANA   5.44      11.4           2.09   \n",
      "26     2018      2        NEBRASKA   4.34      21.7           0.66   \n",
      "27     2018      2  NORTH CAROLINA   4.81      51.8           3.05   \n",
      "28     2018      2    NORTH DAKOTA   5.71       5.4           0.35   \n",
      "29     2018      2            OHIO   4.46      36.6           5.40   \n",
      "30     2018      2        OKLAHOMA   4.14      40.9           4.09   \n",
      "...     ...    ...             ...    ...       ...            ...   \n",
      "24998  1909     10    NORTH DAKOTA   0.88      42.1           0.62   \n",
      "24999  1909     11           IDAHO   0.85      34.0           5.57   \n",
      "25000  1909     11    NORTH DAKOTA   0.91      27.7           0.53   \n",
      "25001  1909     12           IDAHO   0.88      17.4           2.73   \n",
      "25002  1909     12    NORTH DAKOTA   0.94       4.0           1.19   \n",
      "25005  1908      2         ALABAMA   1.03      44.0           6.87   \n",
      "25006  1908      2           IDAHO   0.84      27.4           1.60   \n",
      "25007  1908      3         ALABAMA   1.01      62.2           4.70   \n",
      "25008  1908      3           IDAHO   0.93      32.9           1.77   \n",
      "25009  1908      4         ALABAMA   1.02      67.4           6.30   \n",
      "25010  1908      4           IDAHO   1.00      43.2           1.09   \n",
      "25011  1908      5         ALABAMA   1.05      71.8           5.50   \n",
      "25012  1908      5           IDAHO   1.08      45.4           3.27   \n",
      "25013  1908      6         ALABAMA   1.06      78.0           3.34   \n",
      "25014  1908      6           IDAHO   1.11      52.3           3.28   \n",
      "25015  1908      7         ALABAMA   1.04      80.3           5.30   \n",
      "25016  1908      7           IDAHO   0.76      66.1           0.75   \n",
      "25018  1908      8         ALABAMA   1.03      79.7           3.64   \n",
      "25019  1908      8           IDAHO   0.74      61.6           0.88   \n",
      "25020  1908      8    NORTH DAKOTA   0.95      63.1           2.24   \n",
      "25021  1908      9         ALABAMA   1.05      74.5           2.23   \n",
      "25022  1908      9           IDAHO   0.74      54.9           1.52   \n",
      "25023  1908      9    NORTH DAKOTA   0.89      60.6           1.15   \n",
      "25024  1908     10         ALABAMA   1.06      60.3           1.72   \n",
      "25025  1908     10           IDAHO   0.74      41.5           2.91   \n",
      "25026  1908     10    NORTH DAKOTA   0.89      42.1           1.68   \n",
      "25027  1908     11           IDAHO   0.74      33.1           1.29   \n",
      "25028  1908     11    NORTH DAKOTA   0.91      29.9           0.78   \n",
      "25029  1908     12           IDAHO   0.74      22.7           1.85   \n",
      "25030  1908     12    NORTH DAKOTA   0.93      13.8           0.35   \n",
      "\n",
      "       PrecipitationLag1  \n",
      "0                   0.40  \n",
      "1                   2.27  \n",
      "2                   0.84  \n",
      "4                   0.11  \n",
      "5                   1.89  \n",
      "6                   0.71  \n",
      "7                   1.02  \n",
      "8                   1.80  \n",
      "9                   0.41  \n",
      "10                  2.83  \n",
      "11                  0.40  \n",
      "12                  1.56  \n",
      "13                  0.97  \n",
      "14                  2.20  \n",
      "15                  0.42  \n",
      "16                  5.09  \n",
      "17                  0.81  \n",
      "18                  2.80  \n",
      "19                  1.29  \n",
      "20                  2.05  \n",
      "21                  0.39  \n",
      "22                  1.74  \n",
      "23                  0.56  \n",
      "24                  1.64  \n",
      "25                  1.15  \n",
      "26                  0.72  \n",
      "27                  3.77  \n",
      "28                  0.23  \n",
      "29                  2.31  \n",
      "30                  0.53  \n",
      "...                  ...  \n",
      "24998               0.85  \n",
      "24999               1.29  \n",
      "25000               0.62  \n",
      "25001               5.57  \n",
      "25002               0.53  \n",
      "25005               4.19  \n",
      "25006               1.48  \n",
      "25007               6.87  \n",
      "25008               1.60  \n",
      "25009               4.70  \n",
      "25010               1.77  \n",
      "25011               6.30  \n",
      "25012               1.09  \n",
      "25013               5.50  \n",
      "25014               3.27  \n",
      "25015               3.34  \n",
      "25016               3.28  \n",
      "25018               5.30  \n",
      "25019               0.75  \n",
      "25020               1.94  \n",
      "25021               3.64  \n",
      "25022               0.88  \n",
      "25023               2.24  \n",
      "25024               2.23  \n",
      "25025               1.52  \n",
      "25026               1.15  \n",
      "25027               2.91  \n",
      "25028               1.68  \n",
      "25029               1.29  \n",
      "25030               0.78  \n",
      "\n",
      "[24745 rows x 7 columns]\n"
     ]
    }
   ],
   "source": [
    "def calc_lag_vals(df, col_name, new_col_name):\n",
    "    lag_vals = []\n",
    "    for month, year, state in zip(df.Month, df.Year, df.State):\n",
    "        last_month = None\n",
    "        targ_year = year\n",
    "        if (month == 1):\n",
    "            last_month = 12\n",
    "            targ_year = year - 1\n",
    "        else:\n",
    "            last_month = month - 1\n",
    "        tmp_df = df[(df.State == state) & (df.Month == last_month) & (df.Year == targ_year)]\n",
    "        lag_val = None\n",
    "        if len(tmp_df) == 1:\n",
    "            lag_val = tmp_df[col_name].iloc[0]\n",
    "        lag_vals.append(lag_val)\n",
    "    df[new_col_name] = lag_vals\n",
    "    df.dropna(subset=[new_col_name], inplace=True)"
   ]
  },
  {
   "cell_type": "code",
   "execution_count": 152,
   "metadata": {},
   "outputs": [],
   "source": [
    "df.reset_index(inplace=True, drop=True)\n",
    "df.to_feather(f'{PATH}lagged')"
   ]
  },
  {
   "cell_type": "markdown",
   "metadata": {},
   "source": [
    "### Preprocessing Checkpoint ###"
   ]
  },
  {
   "cell_type": "code",
   "execution_count": 9,
   "metadata": {},
   "outputs": [],
   "source": [
    "df = pd.read_feather(f'{PATH}lagged')"
   ]
  },
  {
   "cell_type": "code",
   "execution_count": 11,
   "metadata": {},
   "outputs": [],
   "source": [
    "dates = []\n",
    "for year, month in zip(df.Year.values, df.Month.values):\n",
    "    dt = datetime.datetime(year, month, 1)\n",
    "    dates.append(dt)\n",
    "df['Date'] = dates\n",
    "df['Date'] = pd.to_datetime(df.Date)\n",
    "df = df.set_index('Date')"
   ]
  },
  {
   "cell_type": "code",
   "execution_count": 12,
   "metadata": {},
   "outputs": [],
   "source": [
    "cat_vars = ['Year', 'Month', 'State']\n",
    "contin_vars = ['MeanTemp', 'Precipitation', 'PrecipitationLag1']\n",
    "dep = 'Value'"
   ]
  },
  {
   "cell_type": "code",
   "execution_count": 13,
   "metadata": {},
   "outputs": [],
   "source": [
    "for v in cat_vars: df[v] = df[v].astype('category').cat.as_ordered()\n",
    "\n",
    "for v in contin_vars:\n",
    "    df[v] = df[v].astype('float32')"
   ]
  },
  {
   "cell_type": "code",
   "execution_count": 15,
   "metadata": {},
   "outputs": [],
   "source": [
    "df.sort_index(inplace=True)"
   ]
  },
  {
   "cell_type": "code",
   "execution_count": 224,
   "metadata": {},
   "outputs": [
    {
     "data": {
      "text/html": [
       "<div>\n",
       "<style scoped>\n",
       "    .dataframe tbody tr th:only-of-type {\n",
       "        vertical-align: middle;\n",
       "    }\n",
       "\n",
       "    .dataframe tbody tr th {\n",
       "        vertical-align: top;\n",
       "    }\n",
       "\n",
       "    .dataframe thead th {\n",
       "        text-align: right;\n",
       "    }\n",
       "</style>\n",
       "<table border=\"1\" class=\"dataframe\">\n",
       "  <thead>\n",
       "    <tr style=\"text-align: right;\">\n",
       "      <th></th>\n",
       "      <th>Year</th>\n",
       "      <th>Month</th>\n",
       "      <th>State</th>\n",
       "      <th>Value</th>\n",
       "      <th>MeanTemp</th>\n",
       "      <th>Precipitation</th>\n",
       "      <th>PrecipitationLag1</th>\n",
       "    </tr>\n",
       "    <tr>\n",
       "      <th>Date</th>\n",
       "      <th></th>\n",
       "      <th></th>\n",
       "      <th></th>\n",
       "      <th></th>\n",
       "      <th></th>\n",
       "      <th></th>\n",
       "      <th></th>\n",
       "    </tr>\n",
       "  </thead>\n",
       "  <tbody>\n",
       "    <tr>\n",
       "      <th>1908-02-01</th>\n",
       "      <td>1908</td>\n",
       "      <td>2</td>\n",
       "      <td>IDAHO</td>\n",
       "      <td>0.84</td>\n",
       "      <td>27.400000</td>\n",
       "      <td>1.60</td>\n",
       "      <td>1.48</td>\n",
       "    </tr>\n",
       "    <tr>\n",
       "      <th>1908-02-01</th>\n",
       "      <td>1908</td>\n",
       "      <td>2</td>\n",
       "      <td>ALABAMA</td>\n",
       "      <td>1.03</td>\n",
       "      <td>44.000000</td>\n",
       "      <td>6.87</td>\n",
       "      <td>4.19</td>\n",
       "    </tr>\n",
       "    <tr>\n",
       "      <th>1908-03-01</th>\n",
       "      <td>1908</td>\n",
       "      <td>3</td>\n",
       "      <td>IDAHO</td>\n",
       "      <td>0.93</td>\n",
       "      <td>32.900002</td>\n",
       "      <td>1.77</td>\n",
       "      <td>1.60</td>\n",
       "    </tr>\n",
       "    <tr>\n",
       "      <th>1908-03-01</th>\n",
       "      <td>1908</td>\n",
       "      <td>3</td>\n",
       "      <td>ALABAMA</td>\n",
       "      <td>1.01</td>\n",
       "      <td>62.200001</td>\n",
       "      <td>4.70</td>\n",
       "      <td>6.87</td>\n",
       "    </tr>\n",
       "    <tr>\n",
       "      <th>1908-04-01</th>\n",
       "      <td>1908</td>\n",
       "      <td>4</td>\n",
       "      <td>ALABAMA</td>\n",
       "      <td>1.02</td>\n",
       "      <td>67.400002</td>\n",
       "      <td>6.30</td>\n",
       "      <td>4.70</td>\n",
       "    </tr>\n",
       "    <tr>\n",
       "      <th>1908-04-01</th>\n",
       "      <td>1908</td>\n",
       "      <td>4</td>\n",
       "      <td>IDAHO</td>\n",
       "      <td>1.00</td>\n",
       "      <td>43.200001</td>\n",
       "      <td>1.09</td>\n",
       "      <td>1.77</td>\n",
       "    </tr>\n",
       "    <tr>\n",
       "      <th>1908-05-01</th>\n",
       "      <td>1908</td>\n",
       "      <td>5</td>\n",
       "      <td>ALABAMA</td>\n",
       "      <td>1.05</td>\n",
       "      <td>71.800003</td>\n",
       "      <td>5.50</td>\n",
       "      <td>6.30</td>\n",
       "    </tr>\n",
       "    <tr>\n",
       "      <th>1908-05-01</th>\n",
       "      <td>1908</td>\n",
       "      <td>5</td>\n",
       "      <td>IDAHO</td>\n",
       "      <td>1.08</td>\n",
       "      <td>45.400002</td>\n",
       "      <td>3.27</td>\n",
       "      <td>1.09</td>\n",
       "    </tr>\n",
       "    <tr>\n",
       "      <th>1908-06-01</th>\n",
       "      <td>1908</td>\n",
       "      <td>6</td>\n",
       "      <td>ALABAMA</td>\n",
       "      <td>1.06</td>\n",
       "      <td>78.000000</td>\n",
       "      <td>3.34</td>\n",
       "      <td>5.50</td>\n",
       "    </tr>\n",
       "    <tr>\n",
       "      <th>1908-06-01</th>\n",
       "      <td>1908</td>\n",
       "      <td>6</td>\n",
       "      <td>IDAHO</td>\n",
       "      <td>1.11</td>\n",
       "      <td>52.299999</td>\n",
       "      <td>3.28</td>\n",
       "      <td>3.27</td>\n",
       "    </tr>\n",
       "    <tr>\n",
       "      <th>1908-07-01</th>\n",
       "      <td>1908</td>\n",
       "      <td>7</td>\n",
       "      <td>ALABAMA</td>\n",
       "      <td>1.04</td>\n",
       "      <td>80.300003</td>\n",
       "      <td>5.30</td>\n",
       "      <td>3.34</td>\n",
       "    </tr>\n",
       "    <tr>\n",
       "      <th>1908-07-01</th>\n",
       "      <td>1908</td>\n",
       "      <td>7</td>\n",
       "      <td>IDAHO</td>\n",
       "      <td>0.76</td>\n",
       "      <td>66.099998</td>\n",
       "      <td>0.75</td>\n",
       "      <td>3.28</td>\n",
       "    </tr>\n",
       "    <tr>\n",
       "      <th>1908-08-01</th>\n",
       "      <td>1908</td>\n",
       "      <td>8</td>\n",
       "      <td>NORTH DAKOTA</td>\n",
       "      <td>0.95</td>\n",
       "      <td>63.099998</td>\n",
       "      <td>2.24</td>\n",
       "      <td>1.94</td>\n",
       "    </tr>\n",
       "    <tr>\n",
       "      <th>1908-08-01</th>\n",
       "      <td>1908</td>\n",
       "      <td>8</td>\n",
       "      <td>IDAHO</td>\n",
       "      <td>0.74</td>\n",
       "      <td>61.599998</td>\n",
       "      <td>0.88</td>\n",
       "      <td>0.75</td>\n",
       "    </tr>\n",
       "    <tr>\n",
       "      <th>1908-08-01</th>\n",
       "      <td>1908</td>\n",
       "      <td>8</td>\n",
       "      <td>ALABAMA</td>\n",
       "      <td>1.03</td>\n",
       "      <td>79.699997</td>\n",
       "      <td>3.64</td>\n",
       "      <td>5.30</td>\n",
       "    </tr>\n",
       "    <tr>\n",
       "      <th>1908-09-01</th>\n",
       "      <td>1908</td>\n",
       "      <td>9</td>\n",
       "      <td>ALABAMA</td>\n",
       "      <td>1.05</td>\n",
       "      <td>74.500000</td>\n",
       "      <td>2.23</td>\n",
       "      <td>3.64</td>\n",
       "    </tr>\n",
       "    <tr>\n",
       "      <th>1908-09-01</th>\n",
       "      <td>1908</td>\n",
       "      <td>9</td>\n",
       "      <td>IDAHO</td>\n",
       "      <td>0.74</td>\n",
       "      <td>54.900002</td>\n",
       "      <td>1.52</td>\n",
       "      <td>0.88</td>\n",
       "    </tr>\n",
       "    <tr>\n",
       "      <th>1908-09-01</th>\n",
       "      <td>1908</td>\n",
       "      <td>9</td>\n",
       "      <td>NORTH DAKOTA</td>\n",
       "      <td>0.89</td>\n",
       "      <td>60.599998</td>\n",
       "      <td>1.15</td>\n",
       "      <td>2.24</td>\n",
       "    </tr>\n",
       "    <tr>\n",
       "      <th>1908-10-01</th>\n",
       "      <td>1908</td>\n",
       "      <td>10</td>\n",
       "      <td>ALABAMA</td>\n",
       "      <td>1.06</td>\n",
       "      <td>60.299999</td>\n",
       "      <td>1.72</td>\n",
       "      <td>2.23</td>\n",
       "    </tr>\n",
       "    <tr>\n",
       "      <th>1908-10-01</th>\n",
       "      <td>1908</td>\n",
       "      <td>10</td>\n",
       "      <td>IDAHO</td>\n",
       "      <td>0.74</td>\n",
       "      <td>41.500000</td>\n",
       "      <td>2.91</td>\n",
       "      <td>1.52</td>\n",
       "    </tr>\n",
       "    <tr>\n",
       "      <th>1908-10-01</th>\n",
       "      <td>1908</td>\n",
       "      <td>10</td>\n",
       "      <td>NORTH DAKOTA</td>\n",
       "      <td>0.89</td>\n",
       "      <td>42.099998</td>\n",
       "      <td>1.68</td>\n",
       "      <td>1.15</td>\n",
       "    </tr>\n",
       "    <tr>\n",
       "      <th>1908-11-01</th>\n",
       "      <td>1908</td>\n",
       "      <td>11</td>\n",
       "      <td>IDAHO</td>\n",
       "      <td>0.74</td>\n",
       "      <td>33.099998</td>\n",
       "      <td>1.29</td>\n",
       "      <td>2.91</td>\n",
       "    </tr>\n",
       "    <tr>\n",
       "      <th>1908-11-01</th>\n",
       "      <td>1908</td>\n",
       "      <td>11</td>\n",
       "      <td>NORTH DAKOTA</td>\n",
       "      <td>0.91</td>\n",
       "      <td>29.900000</td>\n",
       "      <td>0.78</td>\n",
       "      <td>1.68</td>\n",
       "    </tr>\n",
       "    <tr>\n",
       "      <th>1908-12-01</th>\n",
       "      <td>1908</td>\n",
       "      <td>12</td>\n",
       "      <td>NORTH DAKOTA</td>\n",
       "      <td>0.93</td>\n",
       "      <td>13.800000</td>\n",
       "      <td>0.35</td>\n",
       "      <td>0.78</td>\n",
       "    </tr>\n",
       "    <tr>\n",
       "      <th>1908-12-01</th>\n",
       "      <td>1908</td>\n",
       "      <td>12</td>\n",
       "      <td>IDAHO</td>\n",
       "      <td>0.74</td>\n",
       "      <td>22.700001</td>\n",
       "      <td>1.85</td>\n",
       "      <td>1.29</td>\n",
       "    </tr>\n",
       "    <tr>\n",
       "      <th>1909-01-01</th>\n",
       "      <td>1909</td>\n",
       "      <td>1</td>\n",
       "      <td>IDAHO</td>\n",
       "      <td>0.92</td>\n",
       "      <td>24.799999</td>\n",
       "      <td>6.38</td>\n",
       "      <td>1.85</td>\n",
       "    </tr>\n",
       "    <tr>\n",
       "      <th>1909-01-01</th>\n",
       "      <td>1909</td>\n",
       "      <td>1</td>\n",
       "      <td>NORTH DAKOTA</td>\n",
       "      <td>0.94</td>\n",
       "      <td>3.200000</td>\n",
       "      <td>0.39</td>\n",
       "      <td>0.35</td>\n",
       "    </tr>\n",
       "    <tr>\n",
       "      <th>1909-02-01</th>\n",
       "      <td>1909</td>\n",
       "      <td>2</td>\n",
       "      <td>NORTH DAKOTA</td>\n",
       "      <td>0.97</td>\n",
       "      <td>9.800000</td>\n",
       "      <td>0.36</td>\n",
       "      <td>0.39</td>\n",
       "    </tr>\n",
       "    <tr>\n",
       "      <th>1909-02-01</th>\n",
       "      <td>1909</td>\n",
       "      <td>2</td>\n",
       "      <td>IDAHO</td>\n",
       "      <td>0.96</td>\n",
       "      <td>28.400000</td>\n",
       "      <td>3.34</td>\n",
       "      <td>6.38</td>\n",
       "    </tr>\n",
       "    <tr>\n",
       "      <th>1909-02-01</th>\n",
       "      <td>1909</td>\n",
       "      <td>2</td>\n",
       "      <td>ALABAMA</td>\n",
       "      <td>1.06</td>\n",
       "      <td>50.200001</td>\n",
       "      <td>7.59</td>\n",
       "      <td>2.05</td>\n",
       "    </tr>\n",
       "    <tr>\n",
       "      <th>...</th>\n",
       "      <td>...</td>\n",
       "      <td>...</td>\n",
       "      <td>...</td>\n",
       "      <td>...</td>\n",
       "      <td>...</td>\n",
       "      <td>...</td>\n",
       "      <td>...</td>\n",
       "    </tr>\n",
       "    <tr>\n",
       "      <th>2018-02-01</th>\n",
       "      <td>2018</td>\n",
       "      <td>2</td>\n",
       "      <td>KANSAS</td>\n",
       "      <td>4.30</td>\n",
       "      <td>31.799999</td>\n",
       "      <td>0.60</td>\n",
       "      <td>0.39</td>\n",
       "    </tr>\n",
       "    <tr>\n",
       "      <th>2018-02-01</th>\n",
       "      <td>2018</td>\n",
       "      <td>2</td>\n",
       "      <td>MICHIGAN</td>\n",
       "      <td>4.50</td>\n",
       "      <td>23.000000</td>\n",
       "      <td>2.97</td>\n",
       "      <td>1.74</td>\n",
       "    </tr>\n",
       "    <tr>\n",
       "      <th>2018-02-01</th>\n",
       "      <td>2018</td>\n",
       "      <td>2</td>\n",
       "      <td>MINNESOTA</td>\n",
       "      <td>5.64</td>\n",
       "      <td>8.600000</td>\n",
       "      <td>1.01</td>\n",
       "      <td>0.56</td>\n",
       "    </tr>\n",
       "    <tr>\n",
       "      <th>2018-02-01</th>\n",
       "      <td>2018</td>\n",
       "      <td>2</td>\n",
       "      <td>MISSOURI</td>\n",
       "      <td>4.77</td>\n",
       "      <td>35.599998</td>\n",
       "      <td>4.89</td>\n",
       "      <td>1.64</td>\n",
       "    </tr>\n",
       "    <tr>\n",
       "      <th>2018-02-01</th>\n",
       "      <td>2018</td>\n",
       "      <td>2</td>\n",
       "      <td>COLORADO</td>\n",
       "      <td>4.11</td>\n",
       "      <td>28.700001</td>\n",
       "      <td>1.12</td>\n",
       "      <td>0.81</td>\n",
       "    </tr>\n",
       "    <tr>\n",
       "      <th>2018-02-01</th>\n",
       "      <td>2018</td>\n",
       "      <td>2</td>\n",
       "      <td>NEBRASKA</td>\n",
       "      <td>4.34</td>\n",
       "      <td>21.700001</td>\n",
       "      <td>0.66</td>\n",
       "      <td>0.72</td>\n",
       "    </tr>\n",
       "    <tr>\n",
       "      <th>2018-02-01</th>\n",
       "      <td>2018</td>\n",
       "      <td>2</td>\n",
       "      <td>NORTH CAROLINA</td>\n",
       "      <td>4.81</td>\n",
       "      <td>51.799999</td>\n",
       "      <td>3.05</td>\n",
       "      <td>3.77</td>\n",
       "    </tr>\n",
       "    <tr>\n",
       "      <th>2018-02-01</th>\n",
       "      <td>2018</td>\n",
       "      <td>2</td>\n",
       "      <td>NORTH DAKOTA</td>\n",
       "      <td>5.71</td>\n",
       "      <td>5.400000</td>\n",
       "      <td>0.35</td>\n",
       "      <td>0.23</td>\n",
       "    </tr>\n",
       "    <tr>\n",
       "      <th>2018-02-01</th>\n",
       "      <td>2018</td>\n",
       "      <td>2</td>\n",
       "      <td>OHIO</td>\n",
       "      <td>4.46</td>\n",
       "      <td>36.599998</td>\n",
       "      <td>5.40</td>\n",
       "      <td>2.31</td>\n",
       "    </tr>\n",
       "    <tr>\n",
       "      <th>2018-02-01</th>\n",
       "      <td>2018</td>\n",
       "      <td>2</td>\n",
       "      <td>OKLAHOMA</td>\n",
       "      <td>4.14</td>\n",
       "      <td>40.900002</td>\n",
       "      <td>4.09</td>\n",
       "      <td>0.53</td>\n",
       "    </tr>\n",
       "    <tr>\n",
       "      <th>2018-02-01</th>\n",
       "      <td>2018</td>\n",
       "      <td>2</td>\n",
       "      <td>OREGON</td>\n",
       "      <td>4.75</td>\n",
       "      <td>33.200001</td>\n",
       "      <td>2.30</td>\n",
       "      <td>4.13</td>\n",
       "    </tr>\n",
       "    <tr>\n",
       "      <th>2018-02-01</th>\n",
       "      <td>2018</td>\n",
       "      <td>2</td>\n",
       "      <td>SOUTH DAKOTA</td>\n",
       "      <td>5.22</td>\n",
       "      <td>11.700000</td>\n",
       "      <td>0.95</td>\n",
       "      <td>0.30</td>\n",
       "    </tr>\n",
       "    <tr>\n",
       "      <th>2018-02-01</th>\n",
       "      <td>2018</td>\n",
       "      <td>2</td>\n",
       "      <td>MONTANA</td>\n",
       "      <td>5.44</td>\n",
       "      <td>11.400000</td>\n",
       "      <td>2.09</td>\n",
       "      <td>1.15</td>\n",
       "    </tr>\n",
       "    <tr>\n",
       "      <th>2018-03-01</th>\n",
       "      <td>2018</td>\n",
       "      <td>3</td>\n",
       "      <td>WASHINGTON</td>\n",
       "      <td>4.92</td>\n",
       "      <td>38.799999</td>\n",
       "      <td>3.26</td>\n",
       "      <td>4.41</td>\n",
       "    </tr>\n",
       "    <tr>\n",
       "      <th>2018-03-01</th>\n",
       "      <td>2018</td>\n",
       "      <td>3</td>\n",
       "      <td>SOUTH DAKOTA</td>\n",
       "      <td>5.68</td>\n",
       "      <td>30.700001</td>\n",
       "      <td>1.56</td>\n",
       "      <td>0.95</td>\n",
       "    </tr>\n",
       "    <tr>\n",
       "      <th>2018-03-01</th>\n",
       "      <td>2018</td>\n",
       "      <td>3</td>\n",
       "      <td>OREGON</td>\n",
       "      <td>5.42</td>\n",
       "      <td>38.500000</td>\n",
       "      <td>3.33</td>\n",
       "      <td>2.30</td>\n",
       "    </tr>\n",
       "    <tr>\n",
       "      <th>2018-03-01</th>\n",
       "      <td>2018</td>\n",
       "      <td>3</td>\n",
       "      <td>OKLAHOMA</td>\n",
       "      <td>4.49</td>\n",
       "      <td>52.900002</td>\n",
       "      <td>1.96</td>\n",
       "      <td>4.09</td>\n",
       "    </tr>\n",
       "    <tr>\n",
       "      <th>2018-03-01</th>\n",
       "      <td>2018</td>\n",
       "      <td>3</td>\n",
       "      <td>OHIO</td>\n",
       "      <td>4.90</td>\n",
       "      <td>36.400002</td>\n",
       "      <td>3.17</td>\n",
       "      <td>5.40</td>\n",
       "    </tr>\n",
       "    <tr>\n",
       "      <th>2018-03-01</th>\n",
       "      <td>2018</td>\n",
       "      <td>3</td>\n",
       "      <td>NORTH DAKOTA</td>\n",
       "      <td>5.65</td>\n",
       "      <td>24.799999</td>\n",
       "      <td>1.36</td>\n",
       "      <td>0.35</td>\n",
       "    </tr>\n",
       "    <tr>\n",
       "      <th>2018-03-01</th>\n",
       "      <td>2018</td>\n",
       "      <td>3</td>\n",
       "      <td>NORTH CAROLINA</td>\n",
       "      <td>4.97</td>\n",
       "      <td>46.299999</td>\n",
       "      <td>4.10</td>\n",
       "      <td>3.05</td>\n",
       "    </tr>\n",
       "    <tr>\n",
       "      <th>2018-03-01</th>\n",
       "      <td>2018</td>\n",
       "      <td>3</td>\n",
       "      <td>MINNESOTA</td>\n",
       "      <td>5.72</td>\n",
       "      <td>27.400000</td>\n",
       "      <td>1.07</td>\n",
       "      <td>1.01</td>\n",
       "    </tr>\n",
       "    <tr>\n",
       "      <th>2018-03-01</th>\n",
       "      <td>2018</td>\n",
       "      <td>3</td>\n",
       "      <td>MONTANA</td>\n",
       "      <td>5.35</td>\n",
       "      <td>28.500000</td>\n",
       "      <td>1.37</td>\n",
       "      <td>2.09</td>\n",
       "    </tr>\n",
       "    <tr>\n",
       "      <th>2018-03-01</th>\n",
       "      <td>2018</td>\n",
       "      <td>3</td>\n",
       "      <td>MISSOURI</td>\n",
       "      <td>4.82</td>\n",
       "      <td>44.000000</td>\n",
       "      <td>3.77</td>\n",
       "      <td>4.89</td>\n",
       "    </tr>\n",
       "    <tr>\n",
       "      <th>2018-03-01</th>\n",
       "      <td>2018</td>\n",
       "      <td>3</td>\n",
       "      <td>MICHIGAN</td>\n",
       "      <td>4.72</td>\n",
       "      <td>29.500000</td>\n",
       "      <td>1.09</td>\n",
       "      <td>2.97</td>\n",
       "    </tr>\n",
       "    <tr>\n",
       "      <th>2018-03-01</th>\n",
       "      <td>2018</td>\n",
       "      <td>3</td>\n",
       "      <td>INDIANA</td>\n",
       "      <td>4.97</td>\n",
       "      <td>38.299999</td>\n",
       "      <td>3.85</td>\n",
       "      <td>5.89</td>\n",
       "    </tr>\n",
       "    <tr>\n",
       "      <th>2018-03-01</th>\n",
       "      <td>2018</td>\n",
       "      <td>3</td>\n",
       "      <td>ILLINOIS</td>\n",
       "      <td>4.87</td>\n",
       "      <td>39.299999</td>\n",
       "      <td>3.79</td>\n",
       "      <td>4.89</td>\n",
       "    </tr>\n",
       "    <tr>\n",
       "      <th>2018-03-01</th>\n",
       "      <td>2018</td>\n",
       "      <td>3</td>\n",
       "      <td>IDAHO</td>\n",
       "      <td>4.73</td>\n",
       "      <td>33.799999</td>\n",
       "      <td>2.71</td>\n",
       "      <td>2.33</td>\n",
       "    </tr>\n",
       "    <tr>\n",
       "      <th>2018-03-01</th>\n",
       "      <td>2018</td>\n",
       "      <td>3</td>\n",
       "      <td>COLORADO</td>\n",
       "      <td>4.31</td>\n",
       "      <td>37.799999</td>\n",
       "      <td>0.93</td>\n",
       "      <td>1.12</td>\n",
       "    </tr>\n",
       "    <tr>\n",
       "      <th>2018-03-01</th>\n",
       "      <td>2018</td>\n",
       "      <td>3</td>\n",
       "      <td>NEBRASKA</td>\n",
       "      <td>4.52</td>\n",
       "      <td>38.400002</td>\n",
       "      <td>1.14</td>\n",
       "      <td>0.66</td>\n",
       "    </tr>\n",
       "    <tr>\n",
       "      <th>2018-03-01</th>\n",
       "      <td>2018</td>\n",
       "      <td>3</td>\n",
       "      <td>KANSAS</td>\n",
       "      <td>4.49</td>\n",
       "      <td>45.799999</td>\n",
       "      <td>1.01</td>\n",
       "      <td>0.60</td>\n",
       "    </tr>\n",
       "  </tbody>\n",
       "</table>\n",
       "<p>24745 rows × 7 columns</p>\n",
       "</div>"
      ],
      "text/plain": [
       "            Year Month           State  Value   MeanTemp  Precipitation  \\\n",
       "Date                                                                      \n",
       "1908-02-01  1908     2           IDAHO   0.84  27.400000           1.60   \n",
       "1908-02-01  1908     2         ALABAMA   1.03  44.000000           6.87   \n",
       "1908-03-01  1908     3           IDAHO   0.93  32.900002           1.77   \n",
       "1908-03-01  1908     3         ALABAMA   1.01  62.200001           4.70   \n",
       "1908-04-01  1908     4         ALABAMA   1.02  67.400002           6.30   \n",
       "1908-04-01  1908     4           IDAHO   1.00  43.200001           1.09   \n",
       "1908-05-01  1908     5         ALABAMA   1.05  71.800003           5.50   \n",
       "1908-05-01  1908     5           IDAHO   1.08  45.400002           3.27   \n",
       "1908-06-01  1908     6         ALABAMA   1.06  78.000000           3.34   \n",
       "1908-06-01  1908     6           IDAHO   1.11  52.299999           3.28   \n",
       "1908-07-01  1908     7         ALABAMA   1.04  80.300003           5.30   \n",
       "1908-07-01  1908     7           IDAHO   0.76  66.099998           0.75   \n",
       "1908-08-01  1908     8    NORTH DAKOTA   0.95  63.099998           2.24   \n",
       "1908-08-01  1908     8           IDAHO   0.74  61.599998           0.88   \n",
       "1908-08-01  1908     8         ALABAMA   1.03  79.699997           3.64   \n",
       "1908-09-01  1908     9         ALABAMA   1.05  74.500000           2.23   \n",
       "1908-09-01  1908     9           IDAHO   0.74  54.900002           1.52   \n",
       "1908-09-01  1908     9    NORTH DAKOTA   0.89  60.599998           1.15   \n",
       "1908-10-01  1908    10         ALABAMA   1.06  60.299999           1.72   \n",
       "1908-10-01  1908    10           IDAHO   0.74  41.500000           2.91   \n",
       "1908-10-01  1908    10    NORTH DAKOTA   0.89  42.099998           1.68   \n",
       "1908-11-01  1908    11           IDAHO   0.74  33.099998           1.29   \n",
       "1908-11-01  1908    11    NORTH DAKOTA   0.91  29.900000           0.78   \n",
       "1908-12-01  1908    12    NORTH DAKOTA   0.93  13.800000           0.35   \n",
       "1908-12-01  1908    12           IDAHO   0.74  22.700001           1.85   \n",
       "1909-01-01  1909     1           IDAHO   0.92  24.799999           6.38   \n",
       "1909-01-01  1909     1    NORTH DAKOTA   0.94   3.200000           0.39   \n",
       "1909-02-01  1909     2    NORTH DAKOTA   0.97   9.800000           0.36   \n",
       "1909-02-01  1909     2           IDAHO   0.96  28.400000           3.34   \n",
       "1909-02-01  1909     2         ALABAMA   1.06  50.200001           7.59   \n",
       "...          ...   ...             ...    ...        ...            ...   \n",
       "2018-02-01  2018     2          KANSAS   4.30  31.799999           0.60   \n",
       "2018-02-01  2018     2        MICHIGAN   4.50  23.000000           2.97   \n",
       "2018-02-01  2018     2       MINNESOTA   5.64   8.600000           1.01   \n",
       "2018-02-01  2018     2        MISSOURI   4.77  35.599998           4.89   \n",
       "2018-02-01  2018     2        COLORADO   4.11  28.700001           1.12   \n",
       "2018-02-01  2018     2        NEBRASKA   4.34  21.700001           0.66   \n",
       "2018-02-01  2018     2  NORTH CAROLINA   4.81  51.799999           3.05   \n",
       "2018-02-01  2018     2    NORTH DAKOTA   5.71   5.400000           0.35   \n",
       "2018-02-01  2018     2            OHIO   4.46  36.599998           5.40   \n",
       "2018-02-01  2018     2        OKLAHOMA   4.14  40.900002           4.09   \n",
       "2018-02-01  2018     2          OREGON   4.75  33.200001           2.30   \n",
       "2018-02-01  2018     2    SOUTH DAKOTA   5.22  11.700000           0.95   \n",
       "2018-02-01  2018     2         MONTANA   5.44  11.400000           2.09   \n",
       "2018-03-01  2018     3      WASHINGTON   4.92  38.799999           3.26   \n",
       "2018-03-01  2018     3    SOUTH DAKOTA   5.68  30.700001           1.56   \n",
       "2018-03-01  2018     3          OREGON   5.42  38.500000           3.33   \n",
       "2018-03-01  2018     3        OKLAHOMA   4.49  52.900002           1.96   \n",
       "2018-03-01  2018     3            OHIO   4.90  36.400002           3.17   \n",
       "2018-03-01  2018     3    NORTH DAKOTA   5.65  24.799999           1.36   \n",
       "2018-03-01  2018     3  NORTH CAROLINA   4.97  46.299999           4.10   \n",
       "2018-03-01  2018     3       MINNESOTA   5.72  27.400000           1.07   \n",
       "2018-03-01  2018     3         MONTANA   5.35  28.500000           1.37   \n",
       "2018-03-01  2018     3        MISSOURI   4.82  44.000000           3.77   \n",
       "2018-03-01  2018     3        MICHIGAN   4.72  29.500000           1.09   \n",
       "2018-03-01  2018     3         INDIANA   4.97  38.299999           3.85   \n",
       "2018-03-01  2018     3        ILLINOIS   4.87  39.299999           3.79   \n",
       "2018-03-01  2018     3           IDAHO   4.73  33.799999           2.71   \n",
       "2018-03-01  2018     3        COLORADO   4.31  37.799999           0.93   \n",
       "2018-03-01  2018     3        NEBRASKA   4.52  38.400002           1.14   \n",
       "2018-03-01  2018     3          KANSAS   4.49  45.799999           1.01   \n",
       "\n",
       "            PrecipitationLag1  \n",
       "Date                           \n",
       "1908-02-01               1.48  \n",
       "1908-02-01               4.19  \n",
       "1908-03-01               1.60  \n",
       "1908-03-01               6.87  \n",
       "1908-04-01               4.70  \n",
       "1908-04-01               1.77  \n",
       "1908-05-01               6.30  \n",
       "1908-05-01               1.09  \n",
       "1908-06-01               5.50  \n",
       "1908-06-01               3.27  \n",
       "1908-07-01               3.34  \n",
       "1908-07-01               3.28  \n",
       "1908-08-01               1.94  \n",
       "1908-08-01               0.75  \n",
       "1908-08-01               5.30  \n",
       "1908-09-01               3.64  \n",
       "1908-09-01               0.88  \n",
       "1908-09-01               2.24  \n",
       "1908-10-01               2.23  \n",
       "1908-10-01               1.52  \n",
       "1908-10-01               1.15  \n",
       "1908-11-01               2.91  \n",
       "1908-11-01               1.68  \n",
       "1908-12-01               0.78  \n",
       "1908-12-01               1.29  \n",
       "1909-01-01               1.85  \n",
       "1909-01-01               0.35  \n",
       "1909-02-01               0.39  \n",
       "1909-02-01               6.38  \n",
       "1909-02-01               2.05  \n",
       "...                       ...  \n",
       "2018-02-01               0.39  \n",
       "2018-02-01               1.74  \n",
       "2018-02-01               0.56  \n",
       "2018-02-01               1.64  \n",
       "2018-02-01               0.81  \n",
       "2018-02-01               0.72  \n",
       "2018-02-01               3.77  \n",
       "2018-02-01               0.23  \n",
       "2018-02-01               2.31  \n",
       "2018-02-01               0.53  \n",
       "2018-02-01               4.13  \n",
       "2018-02-01               0.30  \n",
       "2018-02-01               1.15  \n",
       "2018-03-01               4.41  \n",
       "2018-03-01               0.95  \n",
       "2018-03-01               2.30  \n",
       "2018-03-01               4.09  \n",
       "2018-03-01               5.40  \n",
       "2018-03-01               0.35  \n",
       "2018-03-01               3.05  \n",
       "2018-03-01               1.01  \n",
       "2018-03-01               2.09  \n",
       "2018-03-01               4.89  \n",
       "2018-03-01               2.97  \n",
       "2018-03-01               5.89  \n",
       "2018-03-01               4.89  \n",
       "2018-03-01               2.33  \n",
       "2018-03-01               1.12  \n",
       "2018-03-01               0.66  \n",
       "2018-03-01               0.60  \n",
       "\n",
       "[24745 rows x 7 columns]"
      ]
     },
     "execution_count": 224,
     "metadata": {},
     "output_type": "execute_result"
    }
   ],
   "source": [
    "df"
   ]
  },
  {
   "cell_type": "markdown",
   "metadata": {},
   "source": [
    "### Process dataframe to prep it for training ###"
   ]
  },
  {
   "cell_type": "code",
   "execution_count": 40,
   "metadata": {},
   "outputs": [
    {
     "name": "stdout",
     "output_type": "stream",
     "text": [
      "{}\n"
     ]
    }
   ],
   "source": [
    "df_sep, y, nas = proc_df(df, 'Value')\n",
    "yl = np.log(y)"
   ]
  },
  {
   "cell_type": "code",
   "execution_count": 207,
   "metadata": {},
   "outputs": [
    {
     "data": {
      "text/plain": [
       "Year                  1.00\n",
       "Month                 2.00\n",
       "State                 9.00\n",
       "MeanTemp             27.40\n",
       "Precipitation         1.60\n",
       "PrecipitationLag1     1.48\n",
       "Name: 1908-02-01 00:00:00, dtype: float32"
      ]
     },
     "execution_count": 207,
     "metadata": {},
     "output_type": "execute_result"
    }
   ],
   "source": [
    "train_ratio = 0.75\n",
    "train_size = int(len(df_sep) * train_ratio)\n",
    "val_idx = list(range(train_size, len(df_sep)))\n",
    "len(df_sep) - len(df_sep)*0.75"
   ]
  },
  {
   "cell_type": "code",
   "execution_count": 18,
   "metadata": {},
   "outputs": [],
   "source": [
    "def inv_y(a): return np.exp(a)\n",
    "\n",
    "def exp_rmspe(y_pred, targ):\n",
    "    targ = inv_y(targ)\n",
    "    pct_var = (targ - inv_y(y_pred))/targ\n",
    "    return math.sqrt((pct_var**2).mean())\n",
    "\n",
    "max_log_y = np.max(yl)\n",
    "y_range = (0, max_log_y*1.2)"
   ]
  },
  {
   "cell_type": "markdown",
   "metadata": {},
   "source": [
    "## Build and Train a Neural Network Model ##"
   ]
  },
  {
   "cell_type": "code",
   "execution_count": 41,
   "metadata": {},
   "outputs": [],
   "source": [
    "md = ColumnarModelData.from_data_frame(PATH, val_idx, df_sep, y.astype(np.float32), cat_flds=cat_vars, bs=128)"
   ]
  },
  {
   "cell_type": "code",
   "execution_count": 63,
   "metadata": {},
   "outputs": [
    {
     "data": {
      "application/vnd.jupyter.widget-view+json": {
       "model_id": "",
       "version_major": 2,
       "version_minor": 0
      },
      "text/plain": [
       "HBox(children=(IntProgress(value=0, description='Epoch', max=1), HTML(value='')))"
      ]
     },
     "metadata": {},
     "output_type": "display_data"
    },
    {
     "name": "stdout",
     "output_type": "stream",
     "text": [
      " 48%|████▊     | 69/145 [00:01<00:02, 35.47it/s, loss=6.73]\n",
      "                                                           \r"
     ]
    },
    {
     "data": {
      "image/png": "[encoded data removed]",
      "text/plain": [
       "<Figure size 432x288 with 1 Axes>"
      ]
     },
     "metadata": {},
     "output_type": "display_data"
    }
   ],
   "source": [
    "learn = md.get_learner([(112,50), (13, 7), (43, 22)], len(df_sep.columns) - len(cat_vars), 0.4, 1, [1000, 500], [0.001, 0.01])\n",
    "learn.lr_find()\n",
    "learn.sched.plot()"
   ]
  },
  {
   "cell_type": "code",
   "execution_count": 195,
   "metadata": {},
   "outputs": [
    {
     "data": {
      "application/vnd.jupyter.widget-view+json": {
       "model_id": "655c7beded0b4c1c9871d18d3cbe987f",
       "version_major": 2,
       "version_minor": 0
      },
      "text/plain": [
       "HBox(children=(IntProgress(value=0, description='Epoch', max=3), HTML(value='')))"
      ]
     },
     "metadata": {},
     "output_type": "display_data"
    },
    {
     "name": "stdout",
     "output_type": "stream",
     "text": [
      "epoch      trn_loss   val_loss                               \n",
      "    0      0.31544    8.881384  \n",
      "    1      0.160009   8.860723                               \n",
      "    2      0.145817   9.048586                               \n",
      "\n"
     ]
    },
    {
     "data": {
      "text/plain": [
       "[array([9.04859])]"
      ]
     },
     "execution_count": 195,
     "metadata": {},
     "output_type": "execute_result"
    }
   ],
   "source": [
    "learn.fit(1e-3, 3, cycle_len=1, cycle_mult=1)"
   ]
  },
  {
   "cell_type": "markdown",
   "metadata": {},
   "source": [
    "## Visualizations of the Model ##"
   ]
  },
  {
   "cell_type": "code",
   "execution_count": 66,
   "metadata": {
    "scrolled": false
   },
   "outputs": [],
   "source": [
    "df_state = df_sep[df_sep.State == 9]\n",
    "cat = df_state[['Year', 'Month', 'State']]\n",
    "cont = df_state[['MeanTemp', 'Precipitation', 'PrecipitationLag1']]"
   ]
  },
  {
   "cell_type": "code",
   "execution_count": 67,
   "metadata": {},
   "outputs": [],
   "source": [
    "learn.model.eval()\n",
    "pred = to_np(learn.model(to_gpu(V(T(np.array(cat.values)))), to_gpu(V(T(np.array(cont.values))))))"
   ]
  },
  {
   "cell_type": "code",
   "execution_count": 69,
   "metadata": {
    "scrolled": false
   },
   "outputs": [
    {
     "data": {
      "text/plain": [
       "[<matplotlib.lines.Line2D at 0x12d0a5208>]"
      ]
     },
     "execution_count": 69,
     "metadata": {},
     "output_type": "execute_result"
    },
    {
     "data": {
      "image/png": "[encoded data removed]",
      "text/plain": [
       "<Figure size 432x288 with 1 Axes>"
      ]
     },
     "metadata": {},
     "output_type": "display_data"
    }
   ],
   "source": [
    "df_actuals = df[df.State == df.State.cat.categories[8]]\n",
    "actuals = df_actuals[['Value']].values\n",
    "matplotlib.pyplot.plot(df_actuals.index.values, actuals)\n",
    "matplotlib.pyplot.plot(df_actuals.index.values, pred)"
   ]
  },
  {
   "cell_type": "markdown",
   "metadata": {},
   "source": [
    "## Random Forest ##"
   ]
  },
  {
   "cell_type": "code",
   "execution_count": 234,
   "metadata": {
    "scrolled": true
   },
   "outputs": [
    {
     "data": {
      "text/plain": [
       "-1.2267791799134327"
      ]
     },
     "execution_count": 234,
     "metadata": {},
     "output_type": "execute_result"
    }
   ],
   "source": [
    "df_rf = df_sep.iloc[0:train_size]\n",
    "y_rf = y[0:train_size]\n",
    "rfr = RandomForestRegressor(n_estimators=10, n_jobs=-1)\n",
    "rfr.fit(df_rf, y_rf)\n",
    "rfr.score(df_sep.iloc[train_size:], y[train_size:])\n",
    "# preds_rfr = rfr.predict(df_sep[df_sep.State == 9])\n",
    "# matplotlib.pyplot.plot(df_actuals.index.values, actuals)\n",
    "# matplotlib.pyplot.plot(df_actuals.index.values, preds_rfr)"
   ]
  },
  {
   "cell_type": "code",
   "execution_count": 236,
   "metadata": {},
   "outputs": [
    {
     "data": {
      "text/html": [
       "<div>\n",
       "<style scoped>\n",
       "    .dataframe tbody tr th:only-of-type {\n",
       "        vertical-align: middle;\n",
       "    }\n",
       "\n",
       "    .dataframe tbody tr th {\n",
       "        vertical-align: top;\n",
       "    }\n",
       "\n",
       "    .dataframe thead th {\n",
       "        text-align: right;\n",
       "    }\n",
       "</style>\n",
       "<table border=\"1\" class=\"dataframe\">\n",
       "  <thead>\n",
       "    <tr style=\"text-align: right;\">\n",
       "      <th></th>\n",
       "      <th>cols</th>\n",
       "      <th>imp</th>\n",
       "    </tr>\n",
       "  </thead>\n",
       "  <tbody>\n",
       "    <tr>\n",
       "      <th>0</th>\n",
       "      <td>Year</td>\n",
       "      <td>0.902191</td>\n",
       "    </tr>\n",
       "    <tr>\n",
       "      <th>1</th>\n",
       "      <td>Month</td>\n",
       "      <td>0.058986</td>\n",
       "    </tr>\n",
       "    <tr>\n",
       "      <th>2</th>\n",
       "      <td>State</td>\n",
       "      <td>0.013346</td>\n",
       "    </tr>\n",
       "    <tr>\n",
       "      <th>3</th>\n",
       "      <td>MeanTemp</td>\n",
       "      <td>0.009659</td>\n",
       "    </tr>\n",
       "    <tr>\n",
       "      <th>5</th>\n",
       "      <td>PrecipitationLag1</td>\n",
       "      <td>0.008275</td>\n",
       "    </tr>\n",
       "    <tr>\n",
       "      <th>4</th>\n",
       "      <td>Precipitation</td>\n",
       "      <td>0.007544</td>\n",
       "    </tr>\n",
       "  </tbody>\n",
       "</table>\n",
       "</div>"
      ],
      "text/plain": [
       "                cols       imp\n",
       "0               Year  0.902191\n",
       "1              Month  0.058986\n",
       "2              State  0.013346\n",
       "3           MeanTemp  0.009659\n",
       "5  PrecipitationLag1  0.008275\n",
       "4      Precipitation  0.007544"
      ]
     },
     "execution_count": 236,
     "metadata": {},
     "output_type": "execute_result"
    }
   ],
   "source": [
    "rf_feat_importance(rfr, df_rf)"
   ]
  },
  {
   "cell_type": "markdown",
   "metadata": {},
   "source": [
    "## Try again with the State with the most data ##"
   ]
  },
  {
   "cell_type": "code",
   "execution_count": 173,
   "metadata": {},
   "outputs": [
    {
     "name": "stdout",
     "output_type": "stream",
     "text": [
      "1318\n"
     ]
    }
   ],
   "source": [
    "max_state = max(df_sep.State.value_counts().iteritems(), key=operator.itemgetter(1))[0]\n",
    "df_st = df[df.State == df.State.cat.categories[max_state-1]]\n",
    "print(len(df_st))\n",
    "cat_vars = ['Year', 'Month']\n",
    "contin_vars = ['MeanTemp', 'Precipitation', 'PrecipitationLag1']"
   ]
  },
  {
   "cell_type": "code",
   "execution_count": 114,
   "metadata": {
    "scrolled": true
   },
   "outputs": [
    {
     "name": "stderr",
     "output_type": "stream",
     "text": [
      "/Users/danielharrison/Documents/fastai_fork/fastai/courses/dl1/fastai/structured.py:425: SettingWithCopyWarning: \n",
      "A value is trying to be set on a copy of a slice from a DataFrame\n",
      "\n",
      "See the caveats in the documentation: http://pandas.pydata.org/pandas-docs/stable/indexing.html#indexing-view-versus-copy\n",
      "  df.drop(ignore_flds, axis=1, inplace=True)\n"
     ]
    }
   ],
   "source": [
    "df_sep_st, y_st, nas_st = proc_df(df_st, 'Value', skip_flds=['State'])\n",
    "yl_st = np.log(y_st)"
   ]
  },
  {
   "cell_type": "code",
   "execution_count": 168,
   "metadata": {},
   "outputs": [],
   "source": [
    "train_ratio_st = 0.80\n",
    "train_size_st = int(len(df_sep_st) * train_ratio_st)\n",
    "val_idx_st = list(range(train_size_st, len(df_sep_st)))\n",
    "df_sep_st.get(train_size_st)"
   ]
  },
  {
   "cell_type": "code",
   "execution_count": 155,
   "metadata": {
    "scrolled": false
   },
   "outputs": [],
   "source": [
    "max_log_y_st = np.max(yl_st)\n",
    "y_range_st = (0, max_log_y_st*1.2)"
   ]
  },
  {
   "cell_type": "code",
   "execution_count": null,
   "metadata": {},
   "outputs": [],
   "source": []
  },
  {
   "cell_type": "code",
   "execution_count": 156,
   "metadata": {},
   "outputs": [],
   "source": [
    "md_st = ColumnarModelData.from_data_frame(PATH, val_idx_st, df_sep_st, y_st.astype(np.float32), cat_flds=cat_vars, bs=10)"
   ]
  },
  {
   "cell_type": "code",
   "execution_count": 157,
   "metadata": {},
   "outputs": [
    {
     "data": {
      "application/vnd.jupyter.widget-view+json": {
       "model_id": "",
       "version_major": 2,
       "version_minor": 0
      },
      "text/plain": [
       "HBox(children=(IntProgress(value=0, description='Epoch', max=1), HTML(value='')))"
      ]
     },
     "metadata": {},
     "output_type": "display_data"
    },
    {
     "name": "stdout",
     "output_type": "stream",
     "text": [
      " 40%|███▉      | 42/106 [00:00<00:01, 57.41it/s, loss=9.19]\n",
      "                                                           \r"
     ]
    },
    {
     "data": {
      "image/png": "[encoded data removed]",
      "text/plain": [
       "<Figure size 432x288 with 1 Axes>"
      ]
     },
     "metadata": {},
     "output_type": "display_data"
    }
   ],
   "source": [
    "learn_st = md_st.get_learner([(112,50), (13, 7)], len(df_sep_st.columns) - len(cat_vars), 0.4, 1, [1000, 500], [0.001, 0.01])\n",
    "learn_st.lr_find()\n",
    "learn_st.sched.plot()"
   ]
  },
  {
   "cell_type": "code",
   "execution_count": 158,
   "metadata": {},
   "outputs": [
    {
     "data": {
      "application/vnd.jupyter.widget-view+json": {
       "model_id": "",
       "version_major": 2,
       "version_minor": 0
      },
      "text/plain": [
       "HBox(children=(IntProgress(value=0, description='Epoch', max=3), HTML(value='')))"
      ]
     },
     "metadata": {},
     "output_type": "display_data"
    },
    {
     "name": "stdout",
     "output_type": "stream",
     "text": [
      "epoch      trn_loss   val_loss   exp_rmspe                  \n",
      "    0      12.134318  12.710815  0.879688  \n",
      "    1      1.603828   13.061998  0.886655                   \n",
      "    2      0.41246    12.67706   0.880718                    \n",
      "\n"
     ]
    },
    {
     "data": {
      "text/plain": [
       "[array([12.67706]), 0.8807181435075042]"
      ]
     },
     "execution_count": 158,
     "metadata": {},
     "output_type": "execute_result"
    }
   ],
   "source": [
    "learn_st.fit(1e-2, 3, metrics=[exp_rmspe], cycle_len=1, cycle_mult=1)"
   ]
  },
  {
   "cell_type": "code",
   "execution_count": 160,
   "metadata": {},
   "outputs": [],
   "source": [
    "cat = df_sep_st[['Year', 'Month']]\n",
    "cont = df_sep_st[['MeanTemp', 'Precipitation', 'PrecipitationLag1']]"
   ]
  },
  {
   "cell_type": "code",
   "execution_count": 161,
   "metadata": {},
   "outputs": [],
   "source": [
    "learn_st.model.eval()\n",
    "pred = to_np(learn_st.model(to_gpu(V(T(np.array(cat.values)))), to_gpu(V(T(np.array(cont.values))))))"
   ]
  },
  {
   "cell_type": "code",
   "execution_count": 163,
   "metadata": {},
   "outputs": [
    {
     "data": {
      "text/plain": [
       "[<matplotlib.lines.Line2D at 0x132b02240>]"
      ]
     },
     "execution_count": 163,
     "metadata": {},
     "output_type": "execute_result"
    },
    {
     "data": {
      "image/png": "[encoded data removed]",
      "text/plain": [
       "<Figure size 432x288 with 1 Axes>"
      ]
     },
     "metadata": {},
     "output_type": "display_data"
    }
   ],
   "source": [
    "matplotlib.pyplot.plot(df_sep_st.index.values, y_st)\n",
    "matplotlib.pyplot.plot(df_sep_st.index.values, pred)"
   ]
  },
  {
   "cell_type": "markdown",
   "metadata": {},
   "source": [
    "## Try again again with Year removed ##"
   ]
  },
  {
   "cell_type": "code",
   "execution_count": 194,
   "metadata": {},
   "outputs": [
    {
     "name": "stdout",
     "output_type": "stream",
     "text": [
      "1318\n"
     ]
    },
    {
     "data": {
      "text/plain": [
       "'IDAHO'"
      ]
     },
     "execution_count": 194,
     "metadata": {},
     "output_type": "execute_result"
    }
   ],
   "source": [
    "max_state = max(df_sep.State.value_counts().iteritems(), key=operator.itemgetter(1))[0]\n",
    "df_st = df[df.State == df.State.cat.categories[max_state-1]]\n",
    "print(len(df_st))\n",
    "cat_vars = ['Month']\n",
    "contin_vars = ['MeanTemp', 'Precipitation', 'PrecipitationLag1']"
   ]
  },
  {
   "cell_type": "code",
   "execution_count": 185,
   "metadata": {
    "scrolled": false
   },
   "outputs": [
    {
     "name": "stderr",
     "output_type": "stream",
     "text": [
      "/Users/danielharrison/Documents/fastai_fork/fastai/courses/dl1/fastai/structured.py:425: SettingWithCopyWarning: \n",
      "A value is trying to be set on a copy of a slice from a DataFrame\n",
      "\n",
      "See the caveats in the documentation: http://pandas.pydata.org/pandas-docs/stable/indexing.html#indexing-view-versus-copy\n",
      "  df.drop(ignore_flds, axis=1, inplace=True)\n"
     ]
    }
   ],
   "source": [
    "df_sep_st, y_st, nas_st = proc_df(df_st, 'Value', skip_flds=['State', 'Year'])\n",
    "yl_st = np.log(y_st)"
   ]
  },
  {
   "cell_type": "code",
   "execution_count": 186,
   "metadata": {},
   "outputs": [],
   "source": [
    "train_ratio_st = 0.80\n",
    "train_size_st = int(len(df_sep_st) * train_ratio_st)\n",
    "val_idx_st = list(range(train_size_st, len(df_sep_st)))\n",
    "df_sep_st.get(train_size_st)"
   ]
  },
  {
   "cell_type": "code",
   "execution_count": 187,
   "metadata": {
    "scrolled": false
   },
   "outputs": [],
   "source": [
    "max_log_y_st = np.max(yl_st)\n",
    "y_range_st = (0, max_log_y_st*1.2)"
   ]
  },
  {
   "cell_type": "code",
   "execution_count": 188,
   "metadata": {},
   "outputs": [],
   "source": [
    "md_st = ColumnarModelData.from_data_frame(PATH, val_idx_st, df_sep_st, y_st.astype(np.float32), cat_flds=cat_vars, bs=10)"
   ]
  },
  {
   "cell_type": "code",
   "execution_count": 189,
   "metadata": {},
   "outputs": [
    {
     "data": {
      "application/vnd.jupyter.widget-view+json": {
       "model_id": "58e4b5a591034d77b8c57905d2acec16",
       "version_major": 2,
       "version_minor": 0
      },
      "text/plain": [
       "HBox(children=(IntProgress(value=0, description='Epoch', max=1), HTML(value='')))"
      ]
     },
     "metadata": {},
     "output_type": "display_data"
    },
    {
     "name": "stdout",
     "output_type": "stream",
     "text": [
      " 45%|████▌     | 48/106 [00:00<00:00, 62.28it/s, loss=17]  \n",
      "                                                         \r"
     ]
    },
    {
     "data": {
      "image/png": "[encoded data removed]",
      "text/plain": [
       "<Figure size 432x288 with 1 Axes>"
      ]
     },
     "metadata": {},
     "output_type": "display_data"
    }
   ],
   "source": [
    "learn_st = md_st.get_learner([(13, 7)], len(df_sep_st.columns) - len(cat_vars), 0.4, 1, [1000, 500], [0.001, 0.01])\n",
    "learn_st.lr_find()\n",
    "learn_st.sched.plot()"
   ]
  },
  {
   "cell_type": "code",
   "execution_count": 190,
   "metadata": {},
   "outputs": [
    {
     "data": {
      "application/vnd.jupyter.widget-view+json": {
       "model_id": "6cf28cbd6117429e9b50ba564a359ee3",
       "version_major": 2,
       "version_minor": 0
      },
      "text/plain": [
       "HBox(children=(IntProgress(value=0, description='Epoch', max=3), HTML(value='')))"
      ]
     },
     "metadata": {},
     "output_type": "display_data"
    },
    {
     "name": "stdout",
     "output_type": "stream",
     "text": [
      "epoch      trn_loss   val_loss   exp_rmspe                 \n",
      "    0      14.973221  11.161714  0.847337  \n",
      "    1      3.180739   9.998316   0.819283                   \n",
      "    2      1.957202   10.398096  0.82871                    \n",
      "\n"
     ]
    },
    {
     "data": {
      "text/plain": [
       "[array([10.3981]), 0.8287101013654772]"
      ]
     },
     "execution_count": 190,
     "metadata": {},
     "output_type": "execute_result"
    }
   ],
   "source": [
    "learn_st.fit(1e-3, 3, metrics=[exp_rmspe], cycle_len=1, cycle_mult=1)"
   ]
  },
  {
   "cell_type": "code",
   "execution_count": 191,
   "metadata": {},
   "outputs": [],
   "source": [
    "cat = df_sep_st[['Month']]\n",
    "cont = df_sep_st[['MeanTemp', 'Precipitation', 'PrecipitationLag1']]"
   ]
  },
  {
   "cell_type": "code",
   "execution_count": 192,
   "metadata": {},
   "outputs": [],
   "source": [
    "learn_st.model.eval()\n",
    "pred = to_np(learn_st.model(to_gpu(V(T(np.array(cat.values)))), to_gpu(V(T(np.array(cont.values))))))"
   ]
  },
  {
   "cell_type": "code",
   "execution_count": 193,
   "metadata": {
    "scrolled": true
   },
   "outputs": [
    {
     "data": {
      "text/plain": [
       "[<matplotlib.lines.Line2D at 0x12c372ba8>]"
      ]
     },
     "execution_count": 193,
     "metadata": {},
     "output_type": "execute_result"
    },
    {
     "data": {
      "image/png": "[encoded data removed]",
      "text/plain": [
       "<Figure size 432x288 with 1 Axes>"
      ]
     },
     "metadata": {},
     "output_type": "display_data"
    }
   ],
   "source": [
    "matplotlib.pyplot.plot(df_sep_st.index.values, y_st)\n",
    "matplotlib.pyplot.plot(df_sep_st.index.values, pred)"
   ]
  },
  {
   "cell_type": "markdown",
   "metadata": {},
   "source": [
    "## Feature Engineering is Hard ##"
   ]
  },
  {
   "cell_type": "markdown",
   "metadata": {},
   "source": [
    "Based on this model's performance, Precipitation and Mean Temperature are likely not big factors at play for determining grain prices. Just looking at the graphs above (for Idaho I believe) we could probably gather from the behavior of wheat prices in the past 40 years that something more than precipitation and temperature is causing large spikes and a lot of volatility. Could maybe add more economy related data (stock prices, gas prices, inflation, dollar value) and industry data (production of wheat, number of farmers, acres of farmland, soil data, ...)"
   ]
  },
  {
   "cell_type": "code",
   "execution_count": null,
   "metadata": {},
   "outputs": [],
   "source": []
  }
 ],
 "metadata": {
  "kernelspec": {
   "display_name": "Python 3",
   "language": "python",
   "name": "python3"
  },
  "language_info": {
   "codemirror_mode": {
    "name": "ipython",
    "version": 3
   },
   "file_extension": ".py",
   "mimetype": "text/x-python",
   "name": "python",
   "nbconvert_exporter": "python",
   "pygments_lexer": "ipython3",
   "version": "3.6.5"
  },
  "widgets": {
   "application/vnd.jupyter.widget-state+json": {
    "state": {
     "007659aefcc34116a37d5a671e10c8b0": {
      "model_module": "@jupyter-widgets/controls",
      "model_module_version": "1.2.0",
      "model_name": "HTMLModel",
      "state": {
       "layout": "IPY_MODEL_8c747a15ebeb4efda1c861b902a93313",
       "style": "IPY_MODEL_8b25e73c456b44a8a4339925af545d49",
       "value": "  0% 0/1 [00:00&lt;?, ?it/s]"
      }
     },
     "01d54158b99e44cab3ef9f984a98b2a8": {
      "model_module": "@jupyter-widgets/controls",
      "model_module_version": "1.2.0",
      "model_name": "HBoxModel",
      "state": {
       "children": [
        "IPY_MODEL_8a73f49bfdc042ca8a9705d753a82765",
        "IPY_MODEL_b2066cb3e0824e13883086870a96e812"
       ],
       "layout": "IPY_MODEL_b6df694a510c46699e63f10950ba112a"
      }
     },
     "03015b7d0c55480bbc855860bf066cf8": {
      "model_module": "@jupyter-widgets/base",
      "model_module_version": "1.0.0",
      "model_name": "LayoutModel",
      "state": {}
     },
     "042f06ec0e624342909ea157eeeb444b": {
      "model_module": "@jupyter-widgets/base",
      "model_module_version": "1.0.0",
      "model_name": "LayoutModel",
      "state": {}
     },
     "0507abea7e0243489e7773dbc514debf": {
      "model_module": "@jupyter-widgets/base",
      "model_module_version": "1.0.0",
      "model_name": "LayoutModel",
      "state": {}
     },
     "052141c1a06a495ea217b2df760d80e6": {
      "model_module": "@jupyter-widgets/base",
      "model_module_version": "1.0.0",
      "model_name": "LayoutModel",
      "state": {}
     },
     "06a3c41e8ca3414eb5c99e2b4451f0a9": {
      "model_module": "@jupyter-widgets/controls",
      "model_module_version": "1.2.0",
      "model_name": "HTMLModel",
      "state": {
       "layout": "IPY_MODEL_305d94c6e02a40c08279d40f81ac4e01",
       "style": "IPY_MODEL_6e3a96096edf4433a60334d59ae7264c",
       "value": "100% 3/3 [00:12&lt;00:00,  4.12s/it]"
      }
     },
     "0739ed111e8e4a11929e3da433c4fc24": {
      "model_module": "@jupyter-widgets/base",
      "model_module_version": "1.0.0",
      "model_name": "LayoutModel",
      "state": {}
     },
     "09201de2efb44be8a5d13db7a481d147": {
      "model_module": "@jupyter-widgets/base",
      "model_module_version": "1.0.0",
      "model_name": "LayoutModel",
      "state": {}
     },
     "095f2034c6cd46d0859db9c6f1098366": {
      "model_module": "@jupyter-widgets/controls",
      "model_module_version": "1.2.0",
      "model_name": "DescriptionStyleModel",
      "state": {
       "description_width": ""
      }
     },
     "09bcec8f40b64e0e9c20887e0f2219bb": {
      "model_module": "@jupyter-widgets/controls",
      "model_module_version": "1.2.0",
      "model_name": "DescriptionStyleModel",
      "state": {
       "description_width": ""
      }
     },
     "09da6f8b8ae1417b86ead8339cabf224": {
      "model_module": "@jupyter-widgets/controls",
      "model_module_version": "1.2.0",
      "model_name": "ProgressStyleModel",
      "state": {
       "description_width": ""
      }
     },
     "09ef3bdc2628485e8ec29e05a661d047": {
      "model_module": "@jupyter-widgets/controls",
      "model_module_version": "1.2.0",
      "model_name": "IntProgressModel",
      "state": {
       "bar_style": "danger",
       "description": "Epoch",
       "layout": "IPY_MODEL_26c12da36c63424ba2eb11528c30fa03",
       "max": 1,
       "style": "IPY_MODEL_9dd1f7c0977b4720baec71b0eff1da70"
      }
     },
     "0aa0e6b138be4405b4a7c64a76816978": {
      "model_module": "@jupyter-widgets/controls",
      "model_module_version": "1.2.0",
      "model_name": "DescriptionStyleModel",
      "state": {
       "description_width": ""
      }
     },
     "0cb146dd7c46460387fb37599ff95f77": {
      "model_module": "@jupyter-widgets/base",
      "model_module_version": "1.0.0",
      "model_name": "LayoutModel",
      "state": {}
     },
     "0d03019e72124b168ca6e925b701fd59": {
      "model_module": "@jupyter-widgets/controls",
      "model_module_version": "1.2.0",
      "model_name": "DescriptionStyleModel",
      "state": {
       "description_width": ""
      }
     },
     "0d306d3be0ac40979270418b2bd7a9f5": {
      "model_module": "@jupyter-widgets/base",
      "model_module_version": "1.0.0",
      "model_name": "LayoutModel",
      "state": {}
     },
     "0e274dc73ce44387af5d77f65bc6fb47": {
      "model_module": "@jupyter-widgets/controls",
      "model_module_version": "1.2.0",
      "model_name": "HBoxModel",
      "state": {
       "children": [
        "IPY_MODEL_587dadb70f204ab8af827ff4dd90c881",
        "IPY_MODEL_06a3c41e8ca3414eb5c99e2b4451f0a9"
       ],
       "layout": "IPY_MODEL_6c90f63d2c034beab9f457114e11a4f2"
      }
     },
     "0f2cfe005481414c9c9ea9e45c188da9": {
      "model_module": "@jupyter-widgets/controls",
      "model_module_version": "1.2.0",
      "model_name": "ProgressStyleModel",
      "state": {
       "description_width": ""
      }
     },
     "0fd51b3470224f70890ada8e7f020af4": {
      "model_module": "@jupyter-widgets/controls",
      "model_module_version": "1.2.0",
      "model_name": "HBoxModel",
      "state": {
       "children": [
        "IPY_MODEL_45dea65a91054cbdb642ed51a9a42cb7",
        "IPY_MODEL_3e6cab75254e4c0e91607970af0c116e"
       ],
       "layout": "IPY_MODEL_3c311c3199a64e11b73a82c6e726ba10"
      }
     },
     "107b9f01c7d34a29a5bca2a423e15def": {
      "model_module": "@jupyter-widgets/controls",
      "model_module_version": "1.2.0",
      "model_name": "DescriptionStyleModel",
      "state": {
       "description_width": ""
      }
     },
     "10e70fbce15c4510aba5895c7deabf5f": {
      "model_module": "@jupyter-widgets/controls",
      "model_module_version": "1.2.0",
      "model_name": "DescriptionStyleModel",
      "state": {
       "description_width": ""
      }
     },
     "11ecea61fdde4b77a2e6597900bc1822": {
      "model_module": "@jupyter-widgets/controls",
      "model_module_version": "1.2.0",
      "model_name": "ProgressStyleModel",
      "state": {
       "description_width": ""
      }
     },
     "131fdc5c9e5c453bb505712e4bfc9c2f": {
      "model_module": "@jupyter-widgets/controls",
      "model_module_version": "1.2.0",
      "model_name": "HTMLModel",
      "state": {
       "layout": "IPY_MODEL_052141c1a06a495ea217b2df760d80e6",
       "style": "IPY_MODEL_107b9f01c7d34a29a5bca2a423e15def",
       "value": "100% 3/3 [00:12&lt;00:00,  4.17s/it]"
      }
     },
     "13677668fc034d47bea85fc249a18b05": {
      "model_module": "@jupyter-widgets/controls",
      "model_module_version": "1.2.0",
      "model_name": "HBoxModel",
      "state": {
       "children": [
        "IPY_MODEL_9d213c5cda0b4f77bd49da0017d6aac1",
        "IPY_MODEL_f1cc6b57d6c04ab29a55a909f63bfbb4"
       ],
       "layout": "IPY_MODEL_3e7734784e62433699ce5b642c4d7da4"
      }
     },
     "15456008ce67460097340885e9758fc6": {
      "model_module": "@jupyter-widgets/controls",
      "model_module_version": "1.2.0",
      "model_name": "ProgressStyleModel",
      "state": {
       "description_width": ""
      }
     },
     "15c5c6eafade44d8a0c097b0aa0ad53f": {
      "model_module": "@jupyter-widgets/base",
      "model_module_version": "1.0.0",
      "model_name": "LayoutModel",
      "state": {}
     },
     "15e31294b6e2476da7188067911e9359": {
      "model_module": "@jupyter-widgets/base",
      "model_module_version": "1.0.0",
      "model_name": "LayoutModel",
      "state": {}
     },
     "171d738c6559455f9d6fbb6bbab7e038": {
      "model_module": "@jupyter-widgets/base",
      "model_module_version": "1.0.0",
      "model_name": "LayoutModel",
      "state": {}
     },
     "195beabb9521413189a63c86b0ef68c0": {
      "model_module": "@jupyter-widgets/controls",
      "model_module_version": "1.2.0",
      "model_name": "HTMLModel",
      "state": {
       "layout": "IPY_MODEL_816ee54b02c44ddbaf0dd0428321c71d",
       "style": "IPY_MODEL_86a8747b726d4601a70e585ebfa6be30",
       "value": "  0% 0/1 [00:00&lt;?, ?it/s]"
      }
     },
     "1bfb3627455f4d4a9627a5fed27a9f0c": {
      "model_module": "@jupyter-widgets/base",
      "model_module_version": "1.0.0",
      "model_name": "LayoutModel",
      "state": {}
     },
     "1d1c62e6748248c58fa42f90f465743c": {
      "model_module": "@jupyter-widgets/base",
      "model_module_version": "1.0.0",
      "model_name": "LayoutModel",
      "state": {}
     },
     "1e169ccc84804425846607ace2f091ff": {
      "model_module": "@jupyter-widgets/controls",
      "model_module_version": "1.2.0",
      "model_name": "ProgressStyleModel",
      "state": {
       "description_width": ""
      }
     },
     "1fc42020212a4fe4bfff21951f172aa8": {
      "model_module": "@jupyter-widgets/controls",
      "model_module_version": "1.2.0",
      "model_name": "HBoxModel",
      "state": {
       "children": [
        "IPY_MODEL_3c31d7bcc5164b5e9c057056b879984b",
        "IPY_MODEL_fc41e4a7604b49faae5cb89abde6dca4"
       ],
       "layout": "IPY_MODEL_a37855cb0f714697beb581dfe81fa1b6"
      }
     },
     "2056003c825147c2a15f2bc0b800aa29": {
      "model_module": "@jupyter-widgets/controls",
      "model_module_version": "1.2.0",
      "model_name": "ProgressStyleModel",
      "state": {
       "description_width": ""
      }
     },
     "22340534f69d412d8a390a0d496b9307": {
      "model_module": "@jupyter-widgets/controls",
      "model_module_version": "1.2.0",
      "model_name": "HTMLModel",
      "state": {
       "layout": "IPY_MODEL_edbd478d13a84b6281c5d4d1fc44fdca",
       "style": "IPY_MODEL_ac8f05d1d0fd4923b6d76b969c106481",
       "value": "  0% 0/1 [00:00&lt;?, ?it/s]"
      }
     },
     "23c36571fb104e27b2940263341a0548": {
      "model_module": "@jupyter-widgets/base",
      "model_module_version": "1.0.0",
      "model_name": "LayoutModel",
      "state": {}
     },
     "24b25c6a78774e8c8e67b5bb20105e92": {
      "model_module": "@jupyter-widgets/controls",
      "model_module_version": "1.2.0",
      "model_name": "HTMLModel",
      "state": {
       "layout": "IPY_MODEL_40dc6677b0824a06a999b8cdb8598db5",
       "style": "IPY_MODEL_edd9e94152c643f2ad9b9792ffaaaf44",
       "value": "100% 3/3 [00:12&lt;00:00,  4.24s/it]"
      }
     },
     "259a570cbd1f4aafb5bc7d38ff902261": {
      "model_module": "@jupyter-widgets/base",
      "model_module_version": "1.0.0",
      "model_name": "LayoutModel",
      "state": {}
     },
     "262e4a7e3edf40868937a55c28b5d203": {
      "model_module": "@jupyter-widgets/controls",
      "model_module_version": "1.2.0",
      "model_name": "IntProgressModel",
      "state": {
       "bar_style": "success",
       "description": "Epoch",
       "layout": "IPY_MODEL_8ec0b09eca8c468d97b8a5b2875885a3",
       "max": 3,
       "style": "IPY_MODEL_ae92c2f26c794ee4a73f2462fe94e3a0",
       "value": 3
      }
     },
     "26c12da36c63424ba2eb11528c30fa03": {
      "model_module": "@jupyter-widgets/base",
      "model_module_version": "1.0.0",
      "model_name": "LayoutModel",
      "state": {}
     },
     "27485d8fcf8846a4af2cb4272a464767": {
      "model_module": "@jupyter-widgets/base",
      "model_module_version": "1.0.0",
      "model_name": "LayoutModel",
      "state": {}
     },
     "2a55ac1637c6446299bb596104240100": {
      "model_module": "@jupyter-widgets/controls",
      "model_module_version": "1.2.0",
      "model_name": "HTMLModel",
      "state": {
       "layout": "IPY_MODEL_fc7f7c1c7f9f4febaef8ce867da484b6",
       "style": "IPY_MODEL_b9a435d424f14d8181fd19ca8308b562",
       "value": "100% 1/1 [00:00&lt;00:00,  3.44it/s]"
      }
     },
     "2b58bb717a9f413382ef2210749788ed": {
      "model_module": "@jupyter-widgets/controls",
      "model_module_version": "1.2.0",
      "model_name": "HBoxModel",
      "state": {
       "children": [
        "IPY_MODEL_d0abf4514e1348c4b2b1fb8aa0bcf0bb",
        "IPY_MODEL_6b16ca2264bb430dbed6f0133f662b42"
       ],
       "layout": "IPY_MODEL_b0ff1906cf2444a485670f77a04a7a0c"
      }
     },
     "2b66921e8e744f80835b75d2969f7205": {
      "model_module": "@jupyter-widgets/base",
      "model_module_version": "1.0.0",
      "model_name": "LayoutModel",
      "state": {}
     },
     "2d5d218ea0a34f9dae7f90f6f3180645": {
      "model_module": "@jupyter-widgets/controls",
      "model_module_version": "1.2.0",
      "model_name": "HBoxModel",
      "state": {
       "children": [
        "IPY_MODEL_986f43575a094611a23f52bdc9c7be86",
        "IPY_MODEL_195beabb9521413189a63c86b0ef68c0"
       ],
       "layout": "IPY_MODEL_af1936c6693e4136b7c7ea53382cbd16"
      }
     },
     "2ed7af82794749ae848653049976120c": {
      "model_module": "@jupyter-widgets/base",
      "model_module_version": "1.0.0",
      "model_name": "LayoutModel",
      "state": {}
     },
     "2f7a42e2fe61445894013d0f48f8938e": {
      "model_module": "@jupyter-widgets/controls",
      "model_module_version": "1.2.0",
      "model_name": "IntProgressModel",
      "state": {
       "bar_style": "success",
       "description": "Epoch",
       "layout": "IPY_MODEL_99867d6885084aaaa30220c1bed2cc71",
       "max": 3,
       "style": "IPY_MODEL_f564fd8f4f724fd29de491d777c247d9",
       "value": 3
      }
     },
     "305d94c6e02a40c08279d40f81ac4e01": {
      "model_module": "@jupyter-widgets/base",
      "model_module_version": "1.0.0",
      "model_name": "LayoutModel",
      "state": {}
     },
     "31c0e1b15b5b4b43b14d46aef8aee350": {
      "model_module": "@jupyter-widgets/controls",
      "model_module_version": "1.2.0",
      "model_name": "IntProgressModel",
      "state": {
       "bar_style": "success",
       "description": "Epoch",
       "layout": "IPY_MODEL_4f73bda6a2e24ed5bc9819f6bc9a72ca",
       "max": 3,
       "style": "IPY_MODEL_5f6f9c9af9a3434382f1d6153fae3e60",
       "value": 3
      }
     },
     "33268e64bef14666b5f72bc5f0f398db": {
      "model_module": "@jupyter-widgets/controls",
      "model_module_version": "1.2.0",
      "model_name": "HBoxModel",
      "state": {
       "children": [
        "IPY_MODEL_edd97f2b6cbb45fe9e6e8ea4067dd0dc",
        "IPY_MODEL_24b25c6a78774e8c8e67b5bb20105e92"
       ],
       "layout": "IPY_MODEL_5852230a4eab46ee86969541d412226f"
      }
     },
     "338fd5b33f5f49dab59e0246f729efbe": {
      "model_module": "@jupyter-widgets/controls",
      "model_module_version": "1.2.0",
      "model_name": "DescriptionStyleModel",
      "state": {
       "description_width": ""
      }
     },
     "34aef49802314a36b9ae0608d2c0778d": {
      "model_module": "@jupyter-widgets/controls",
      "model_module_version": "1.2.0",
      "model_name": "ProgressStyleModel",
      "state": {
       "description_width": ""
      }
     },
     "34c0ea15525f45dea9ba218fedb391c8": {
      "model_module": "@jupyter-widgets/controls",
      "model_module_version": "1.2.0",
      "model_name": "DescriptionStyleModel",
      "state": {
       "description_width": ""
      }
     },
     "3505ee2d20574de4a13df52dc07a079d": {
      "model_module": "@jupyter-widgets/controls",
      "model_module_version": "1.2.0",
      "model_name": "HBoxModel",
      "state": {
       "children": [
        "IPY_MODEL_822aa84659e04196ab99ada1d53321e8",
        "IPY_MODEL_22340534f69d412d8a390a0d496b9307"
       ],
       "layout": "IPY_MODEL_61d5ff3a898045a38b6b1832fa718b8f"
      }
     },
     "360f430bae624cc08d542dc759b5293c": {
      "model_module": "@jupyter-widgets/base",
      "model_module_version": "1.0.0",
      "model_name": "LayoutModel",
      "state": {}
     },
     "37712c2eabdc4d799f41a43ecfeca773": {
      "model_module": "@jupyter-widgets/base",
      "model_module_version": "1.0.0",
      "model_name": "LayoutModel",
      "state": {}
     },
     "387d64e1406643fd861b1830e049ce40": {
      "model_module": "@jupyter-widgets/base",
      "model_module_version": "1.0.0",
      "model_name": "LayoutModel",
      "state": {}
     },
     "389c7f4d6ef64b438299c43f5f55aab4": {
      "model_module": "@jupyter-widgets/controls",
      "model_module_version": "1.2.0",
      "model_name": "ProgressStyleModel",
      "state": {
       "description_width": ""
      }
     },
     "392e59cc8183445ea02c9d5c7bcb8dbd": {
      "model_module": "@jupyter-widgets/controls",
      "model_module_version": "1.2.0",
      "model_name": "DescriptionStyleModel",
      "state": {
       "description_width": ""
      }
     },
     "399c60a1682b4035a59a4281f73c38a8": {
      "model_module": "@jupyter-widgets/controls",
      "model_module_version": "1.2.0",
      "model_name": "HTMLModel",
      "state": {
       "layout": "IPY_MODEL_53c50182c76b4c9a80348164be3ac80c",
       "style": "IPY_MODEL_ea6b450bf8c443bc96abdc777b07a80e",
       "value": "  0% 0/1 [00:00&lt;?, ?it/s]"
      }
     },
     "3a6bbdb2f9504a96909c6a56864a29ea": {
      "model_module": "@jupyter-widgets/controls",
      "model_module_version": "1.2.0",
      "model_name": "IntProgressModel",
      "state": {
       "bar_style": "success",
       "description": "Epoch",
       "layout": "IPY_MODEL_9046c4e83706474e901423155bd8ce3a",
       "max": 7,
       "style": "IPY_MODEL_15456008ce67460097340885e9758fc6",
       "value": 7
      }
     },
     "3b0dce7dab18418298fd85633833c658": {
      "model_module": "@jupyter-widgets/controls",
      "model_module_version": "1.2.0",
      "model_name": "DescriptionStyleModel",
      "state": {
       "description_width": ""
      }
     },
     "3bbaf5b025514ee08589a0e3c20936ac": {
      "model_module": "@jupyter-widgets/base",
      "model_module_version": "1.0.0",
      "model_name": "LayoutModel",
      "state": {}
     },
     "3be8a2632ea041c4b992174324ebd734": {
      "model_module": "@jupyter-widgets/controls",
      "model_module_version": "1.2.0",
      "model_name": "ProgressStyleModel",
      "state": {
       "description_width": ""
      }
     },
     "3c311c3199a64e11b73a82c6e726ba10": {
      "model_module": "@jupyter-widgets/base",
      "model_module_version": "1.0.0",
      "model_name": "LayoutModel",
      "state": {}
     },
     "3c31d7bcc5164b5e9c057056b879984b": {
      "model_module": "@jupyter-widgets/controls",
      "model_module_version": "1.2.0",
      "model_name": "IntProgressModel",
      "state": {
       "bar_style": "success",
       "description": "Epoch",
       "layout": "IPY_MODEL_23c36571fb104e27b2940263341a0548",
       "max": 3,
       "style": "IPY_MODEL_889308880acf4badad16647a3125356f",
       "value": 3
      }
     },
     "3c7585dee4cb455daa96a25b5a2f4120": {
      "model_module": "@jupyter-widgets/controls",
      "model_module_version": "1.2.0",
      "model_name": "HTMLModel",
      "state": {
       "layout": "IPY_MODEL_a895f7c200a543a18ec46a5131431a05",
       "style": "IPY_MODEL_44f3ebd5638f4f248ff5a50d4315df20",
       "value": "100% 3/3 [00:12&lt;00:00,  4.18s/it]"
      }
     },
     "3cf08043e1304b0c97987a6ed29940b3": {
      "model_module": "@jupyter-widgets/controls",
      "model_module_version": "1.2.0",
      "model_name": "HBoxModel",
      "state": {
       "children": [
        "IPY_MODEL_76f7798e0d414fb189e197a228bf169b",
        "IPY_MODEL_e7ba12cd2f9f456c9e8dae5e2aecc992"
       ],
       "layout": "IPY_MODEL_3f3403229efe4b56877745a3e4aa9a18"
      }
     },
     "3d0310374f8143ba80710e6e528a5ccb": {
      "model_module": "@jupyter-widgets/controls",
      "model_module_version": "1.2.0",
      "model_name": "IntProgressModel",
      "state": {
       "bar_style": "success",
       "description": "Epoch",
       "layout": "IPY_MODEL_8ea2d2b0b7d3475bb6eb8d86f4ffdb3e",
       "max": 7,
       "style": "IPY_MODEL_ccbb310d04144e81bb87dd2ab447bd6f",
       "value": 7
      }
     },
     "3e6cab75254e4c0e91607970af0c116e": {
      "model_module": "@jupyter-widgets/controls",
      "model_module_version": "1.2.0",
      "model_name": "HTMLModel",
      "state": {
       "layout": "IPY_MODEL_259a570cbd1f4aafb5bc7d38ff902261",
       "style": "IPY_MODEL_50071e6f0417422a9e3a3f8e757288f4",
       "value": "100% 1/1 [00:01&lt;00:00,  1.69s/it]"
      }
     },
     "3e7734784e62433699ce5b642c4d7da4": {
      "model_module": "@jupyter-widgets/base",
      "model_module_version": "1.0.0",
      "model_name": "LayoutModel",
      "state": {}
     },
     "3f3403229efe4b56877745a3e4aa9a18": {
      "model_module": "@jupyter-widgets/base",
      "model_module_version": "1.0.0",
      "model_name": "LayoutModel",
      "state": {}
     },
     "3f5a847a590f496d83b5eb1ab1354f15": {
      "model_module": "@jupyter-widgets/controls",
      "model_module_version": "1.2.0",
      "model_name": "HTMLModel",
      "state": {
       "layout": "IPY_MODEL_ce08d2420b464f14ab67223b048386df",
       "style": "IPY_MODEL_338fd5b33f5f49dab59e0246f729efbe",
       "value": "  0% 0/1 [00:00&lt;?, ?it/s]"
      }
     },
     "3f68bb86ffcb48dab86a3403ab4089af": {
      "model_module": "@jupyter-widgets/base",
      "model_module_version": "1.0.0",
      "model_name": "LayoutModel",
      "state": {}
     },
     "3fd6bea2752a4fb7b990d0163c3bf3dd": {
      "model_module": "@jupyter-widgets/controls",
      "model_module_version": "1.2.0",
      "model_name": "DescriptionStyleModel",
      "state": {
       "description_width": ""
      }
     },
     "40b102e5840549b2b086a0bc363ea86b": {
      "model_module": "@jupyter-widgets/base",
      "model_module_version": "1.0.0",
      "model_name": "LayoutModel",
      "state": {}
     },
     "40d1e588d7c94371a4e1c4f1aaf13a4c": {
      "model_module": "@jupyter-widgets/controls",
      "model_module_version": "1.2.0",
      "model_name": "HTMLModel",
      "state": {
       "layout": "IPY_MODEL_5c7a3cc7f06a4523acd0e15b1247d20d",
       "style": "IPY_MODEL_09bcec8f40b64e0e9c20887e0f2219bb",
       "value": "100% 3/3 [00:11&lt;00:00,  3.96s/it]"
      }
     },
     "40dc6677b0824a06a999b8cdb8598db5": {
      "model_module": "@jupyter-widgets/base",
      "model_module_version": "1.0.0",
      "model_name": "LayoutModel",
      "state": {}
     },
     "420e6c0585c244b9834475e77274d4aa": {
      "model_module": "@jupyter-widgets/base",
      "model_module_version": "1.0.0",
      "model_name": "LayoutModel",
      "state": {}
     },
     "43d38c3b4d8542f3aaa1d16bb16d0aab": {
      "model_module": "@jupyter-widgets/controls",
      "model_module_version": "1.2.0",
      "model_name": "HBoxModel",
      "state": {
       "children": [
        "IPY_MODEL_5cee3ec20b814ad4b2dd4ae4c373ca70",
        "IPY_MODEL_6b270a3ced6541abac9413d4b5d27a29"
       ],
       "layout": "IPY_MODEL_37712c2eabdc4d799f41a43ecfeca773"
      }
     },
     "44f3ebd5638f4f248ff5a50d4315df20": {
      "model_module": "@jupyter-widgets/controls",
      "model_module_version": "1.2.0",
      "model_name": "DescriptionStyleModel",
      "state": {
       "description_width": ""
      }
     },
     "45dea65a91054cbdb642ed51a9a42cb7": {
      "model_module": "@jupyter-widgets/controls",
      "model_module_version": "1.2.0",
      "model_name": "IntProgressModel",
      "state": {
       "bar_style": "success",
       "description": "Epoch",
       "layout": "IPY_MODEL_0507abea7e0243489e7773dbc514debf",
       "max": 1,
       "style": "IPY_MODEL_cdccac15ebe648999208eb5cdd8ce3c0",
       "value": 1
      }
     },
     "46005839a8284e07953141bc3a1daa78": {
      "model_module": "@jupyter-widgets/controls",
      "model_module_version": "1.2.0",
      "model_name": "HBoxModel",
      "state": {
       "children": [
        "IPY_MODEL_262e4a7e3edf40868937a55c28b5d203",
        "IPY_MODEL_4b1a92a10e574195bc6e67e1bb49462b"
       ],
       "layout": "IPY_MODEL_40b102e5840549b2b086a0bc363ea86b"
      }
     },
     "469233394ff7460c97bd10b497154cf6": {
      "model_module": "@jupyter-widgets/controls",
      "model_module_version": "1.2.0",
      "model_name": "IntProgressModel",
      "state": {
       "bar_style": "success",
       "description": "Epoch",
       "layout": "IPY_MODEL_ee1642bccb6844af9747e9a076942c42",
       "max": 1,
       "style": "IPY_MODEL_47b9bf8ab5c243378a9eaa058f25a92c",
       "value": 1
      }
     },
     "46ff5475975d4ccd9bb159e1126675db": {
      "model_module": "@jupyter-widgets/controls",
      "model_module_version": "1.2.0",
      "model_name": "ProgressStyleModel",
      "state": {
       "description_width": ""
      }
     },
     "47b57e84bbc24d5d929feaa5d79ef36b": {
      "model_module": "@jupyter-widgets/controls",
      "model_module_version": "1.2.0",
      "model_name": "HBoxModel",
      "state": {
       "children": [
        "IPY_MODEL_8e84941a7e3845cda8d1ffa039ef0b92",
        "IPY_MODEL_ec308e387aaa4035954d6dab7c42973a"
       ],
       "layout": "IPY_MODEL_8237fb72b07d47169b0634f9a97c9e67"
      }
     },
     "47b9bf8ab5c243378a9eaa058f25a92c": {
      "model_module": "@jupyter-widgets/controls",
      "model_module_version": "1.2.0",
      "model_name": "ProgressStyleModel",
      "state": {
       "description_width": ""
      }
     },
     "4940148c0be84bdab7de324bc35622c7": {
      "model_module": "@jupyter-widgets/base",
      "model_module_version": "1.0.0",
      "model_name": "LayoutModel",
      "state": {}
     },
     "495f560f4afb4458bb76fcc2d60316aa": {
      "model_module": "@jupyter-widgets/base",
      "model_module_version": "1.0.0",
      "model_name": "LayoutModel",
      "state": {}
     },
     "4b1a92a10e574195bc6e67e1bb49462b": {
      "model_module": "@jupyter-widgets/controls",
      "model_module_version": "1.2.0",
      "model_name": "HTMLModel",
      "state": {
       "layout": "IPY_MODEL_6066140467334b7988859676651b87bd",
       "style": "IPY_MODEL_d351cbcd9685494a8f50ab4b979b693c",
       "value": "100% 3/3 [00:05&lt;00:00,  1.68s/it]"
      }
     },
     "4d86c1671a00439f962c2969cf9e00fe": {
      "model_module": "@jupyter-widgets/controls",
      "model_module_version": "1.2.0",
      "model_name": "IntProgressModel",
      "state": {
       "bar_style": "danger",
       "description": "Epoch",
       "layout": "IPY_MODEL_09201de2efb44be8a5d13db7a481d147",
       "max": 1,
       "style": "IPY_MODEL_0f2cfe005481414c9c9ea9e45c188da9"
      }
     },
     "4f2290e7405d44a085c1a962840ef429": {
      "model_module": "@jupyter-widgets/base",
      "model_module_version": "1.0.0",
      "model_name": "LayoutModel",
      "state": {}
     },
     "4f73bda6a2e24ed5bc9819f6bc9a72ca": {
      "model_module": "@jupyter-widgets/base",
      "model_module_version": "1.0.0",
      "model_name": "LayoutModel",
      "state": {}
     },
     "4f9dcc9b18f44a4f9151e1840ad0de8b": {
      "model_module": "@jupyter-widgets/base",
      "model_module_version": "1.0.0",
      "model_name": "LayoutModel",
      "state": {}
     },
     "50071e6f0417422a9e3a3f8e757288f4": {
      "model_module": "@jupyter-widgets/controls",
      "model_module_version": "1.2.0",
      "model_name": "DescriptionStyleModel",
      "state": {
       "description_width": ""
      }
     },
     "52b3817f06cf430d84871525fd9f02e8": {
      "model_module": "@jupyter-widgets/base",
      "model_module_version": "1.0.0",
      "model_name": "LayoutModel",
      "state": {}
     },
     "531b817363ae4ab2a828d38452234bc9": {
      "model_module": "@jupyter-widgets/base",
      "model_module_version": "1.0.0",
      "model_name": "LayoutModel",
      "state": {}
     },
     "53c50182c76b4c9a80348164be3ac80c": {
      "model_module": "@jupyter-widgets/base",
      "model_module_version": "1.0.0",
      "model_name": "LayoutModel",
      "state": {}
     },
     "5423d44732394de0b4ceba237df082a3": {
      "model_module": "@jupyter-widgets/controls",
      "model_module_version": "1.2.0",
      "model_name": "IntProgressModel",
      "state": {
       "bar_style": "success",
       "description": "Epoch",
       "layout": "IPY_MODEL_a9a0eafbb82d4c70a953822481705534",
       "max": 3,
       "style": "IPY_MODEL_34aef49802314a36b9ae0608d2c0778d",
       "value": 3
      }
     },
     "548178fc4ae84555b694e222f6a4a57d": {
      "model_module": "@jupyter-widgets/base",
      "model_module_version": "1.0.0",
      "model_name": "LayoutModel",
      "state": {}
     },
     "54cd730462364b06aee5150f4f1a35e9": {
      "model_module": "@jupyter-widgets/base",
      "model_module_version": "1.0.0",
      "model_name": "LayoutModel",
      "state": {}
     },
     "55130698e92d4e1e9453fb3c9e5c363a": {
      "model_module": "@jupyter-widgets/controls",
      "model_module_version": "1.2.0",
      "model_name": "HTMLModel",
      "state": {
       "layout": "IPY_MODEL_aef0a1563fa846e18575d60f8e813f43",
       "style": "IPY_MODEL_93cda8d75e474d238c60d4e1fae33793",
       "value": "100% 7/7 [00:31&lt;00:00,  4.50s/it]"
      }
     },
     "5559129e4c7046bdb527c778e7722509": {
      "model_module": "@jupyter-widgets/controls",
      "model_module_version": "1.2.0",
      "model_name": "HBoxModel",
      "state": {
       "children": [
        "IPY_MODEL_469233394ff7460c97bd10b497154cf6",
        "IPY_MODEL_83f041ad09894f88880680a9d582149c"
       ],
       "layout": "IPY_MODEL_15c5c6eafade44d8a0c097b0aa0ad53f"
      }
     },
     "55f295bb036c415cb5550dd512cf63d0": {
      "model_module": "@jupyter-widgets/controls",
      "model_module_version": "1.2.0",
      "model_name": "HBoxModel",
      "state": {
       "children": [
        "IPY_MODEL_5423d44732394de0b4ceba237df082a3",
        "IPY_MODEL_f317733cfacc4d3099fe90dd6b8f51d7"
       ],
       "layout": "IPY_MODEL_03015b7d0c55480bbc855860bf066cf8"
      }
     },
     "575a12c4e72c422ab1ce26740bde4be4": {
      "model_module": "@jupyter-widgets/controls",
      "model_module_version": "1.2.0",
      "model_name": "DescriptionStyleModel",
      "state": {
       "description_width": ""
      }
     },
     "5852230a4eab46ee86969541d412226f": {
      "model_module": "@jupyter-widgets/base",
      "model_module_version": "1.0.0",
      "model_name": "LayoutModel",
      "state": {}
     },
     "587dadb70f204ab8af827ff4dd90c881": {
      "model_module": "@jupyter-widgets/controls",
      "model_module_version": "1.2.0",
      "model_name": "IntProgressModel",
      "state": {
       "bar_style": "success",
       "description": "Epoch",
       "layout": "IPY_MODEL_2b66921e8e744f80835b75d2969f7205",
       "max": 3,
       "style": "IPY_MODEL_389c7f4d6ef64b438299c43f5f55aab4",
       "value": 3
      }
     },
     "58887d66563341bd826f7c0ed5dffcbc": {
      "model_module": "@jupyter-widgets/controls",
      "model_module_version": "1.2.0",
      "model_name": "HTMLModel",
      "state": {
       "layout": "IPY_MODEL_b9eeecd2ef7446c18c4867cdfb83cd2e",
       "style": "IPY_MODEL_e4ec392033ee475e941352d4f955d027",
       "value": "  0% 0/1 [00:00&lt;?, ?it/s]"
      }
     },
     "58e4b5a591034d77b8c57905d2acec16": {
      "model_module": "@jupyter-widgets/controls",
      "model_module_version": "1.2.0",
      "model_name": "HBoxModel",
      "state": {
       "children": [
        "IPY_MODEL_b58a1e8efbef4b1ca2fbf6b24d028c7e",
        "IPY_MODEL_58887d66563341bd826f7c0ed5dffcbc"
       ],
       "layout": "IPY_MODEL_5e67f18ee7724543a6e2572f2914fdb4"
      }
     },
     "59775eb9925643a483b5db321f950d67": {
      "model_module": "@jupyter-widgets/controls",
      "model_module_version": "1.2.0",
      "model_name": "HBoxModel",
      "state": {
       "children": [
        "IPY_MODEL_f3fe763491004105beb9c320f0e6a67c",
        "IPY_MODEL_007659aefcc34116a37d5a671e10c8b0"
       ],
       "layout": "IPY_MODEL_ea9669b9edb74f58b4d827b094f48beb"
      }
     },
     "5ad3965405d44b9299e179e3c97d497e": {
      "model_module": "@jupyter-widgets/controls",
      "model_module_version": "1.2.0",
      "model_name": "HBoxModel",
      "state": {
       "children": [
        "IPY_MODEL_5e2a8d1fce7e49bf9083da9fab572d7f",
        "IPY_MODEL_c43db33c9d2e4a18a59f636bec09c307"
       ],
       "layout": "IPY_MODEL_f3857217ff4a48f5888b9c550e44fb8a"
      }
     },
     "5c06bb84f7d9481f9077b5e6b1f56917": {
      "model_module": "@jupyter-widgets/controls",
      "model_module_version": "1.2.0",
      "model_name": "IntProgressModel",
      "state": {
       "bar_style": "danger",
       "description": "Epoch",
       "layout": "IPY_MODEL_2ed7af82794749ae848653049976120c",
       "max": 1,
       "style": "IPY_MODEL_920d93311cf942df9e5531492972f4df"
      }
     },
     "5c7a3cc7f06a4523acd0e15b1247d20d": {
      "model_module": "@jupyter-widgets/base",
      "model_module_version": "1.0.0",
      "model_name": "LayoutModel",
      "state": {}
     },
     "5cee3ec20b814ad4b2dd4ae4c373ca70": {
      "model_module": "@jupyter-widgets/controls",
      "model_module_version": "1.2.0",
      "model_name": "IntProgressModel",
      "state": {
       "bar_style": "success",
       "description": "Epoch",
       "layout": "IPY_MODEL_3bbaf5b025514ee08589a0e3c20936ac",
       "max": 3,
       "style": "IPY_MODEL_8bc72bf135fc4e158c8c16a340b9baca",
       "value": 3
      }
     },
     "5e2a8d1fce7e49bf9083da9fab572d7f": {
      "model_module": "@jupyter-widgets/controls",
      "model_module_version": "1.2.0",
      "model_name": "IntProgressModel",
      "state": {
       "bar_style": "danger",
       "description": "Epoch",
       "layout": "IPY_MODEL_7dc142757c0547c8b258e73db04e8ee8",
       "max": 1,
       "style": "IPY_MODEL_bd49ddda4481466f82af8859ce54d047"
      }
     },
     "5e67f18ee7724543a6e2572f2914fdb4": {
      "model_module": "@jupyter-widgets/base",
      "model_module_version": "1.0.0",
      "model_name": "LayoutModel",
      "state": {}
     },
     "5f346f4734e74beda681da1ebde62712": {
      "model_module": "@jupyter-widgets/controls",
      "model_module_version": "1.2.0",
      "model_name": "ProgressStyleModel",
      "state": {
       "description_width": ""
      }
     },
     "5f6f9c9af9a3434382f1d6153fae3e60": {
      "model_module": "@jupyter-widgets/controls",
      "model_module_version": "1.2.0",
      "model_name": "ProgressStyleModel",
      "state": {
       "description_width": ""
      }
     },
     "6066140467334b7988859676651b87bd": {
      "model_module": "@jupyter-widgets/base",
      "model_module_version": "1.0.0",
      "model_name": "LayoutModel",
      "state": {}
     },
     "60ae208bacd741dabafc0754fd805e88": {
      "model_module": "@jupyter-widgets/controls",
      "model_module_version": "1.2.0",
      "model_name": "IntProgressModel",
      "state": {
       "bar_style": "success",
       "description": "Epoch",
       "layout": "IPY_MODEL_88568cd0849640339f80354df2913e42",
       "max": 3,
       "style": "IPY_MODEL_b60f294ee5e146abb540f81dcc3e3159",
       "value": 3
      }
     },
     "61d5ff3a898045a38b6b1832fa718b8f": {
      "model_module": "@jupyter-widgets/base",
      "model_module_version": "1.0.0",
      "model_name": "LayoutModel",
      "state": {}
     },
     "63501bc53c6b4176a9de5b32388ec395": {
      "model_module": "@jupyter-widgets/controls",
      "model_module_version": "1.2.0",
      "model_name": "DescriptionStyleModel",
      "state": {
       "description_width": ""
      }
     },
     "637d89d9718a461da894db3864f8f502": {
      "model_module": "@jupyter-widgets/controls",
      "model_module_version": "1.2.0",
      "model_name": "DescriptionStyleModel",
      "state": {
       "description_width": ""
      }
     },
     "65e811fba04b4bffaaed69d856b7dd28": {
      "model_module": "@jupyter-widgets/controls",
      "model_module_version": "1.2.0",
      "model_name": "HBoxModel",
      "state": {
       "children": [
        "IPY_MODEL_83acaf9816d549699b45ce07da3a4cf6",
        "IPY_MODEL_40d1e588d7c94371a4e1c4f1aaf13a4c"
       ],
       "layout": "IPY_MODEL_171d738c6559455f9d6fbb6bbab7e038"
      }
     },
     "6783490ff76841c098632e9b4229849b": {
      "model_module": "@jupyter-widgets/base",
      "model_module_version": "1.0.0",
      "model_name": "LayoutModel",
      "state": {}
     },
     "68e5ec8000e341c0961b716d2740e547": {
      "model_module": "@jupyter-widgets/controls",
      "model_module_version": "1.2.0",
      "model_name": "HTMLModel",
      "state": {
       "layout": "IPY_MODEL_1bfb3627455f4d4a9627a5fed27a9f0c",
       "style": "IPY_MODEL_d9777aea32f74b099555835d076365be",
       "value": "  0% 0/1 [00:00&lt;?, ?it/s]"
      }
     },
     "6b16ca2264bb430dbed6f0133f662b42": {
      "model_module": "@jupyter-widgets/controls",
      "model_module_version": "1.2.0",
      "model_name": "HTMLModel",
      "state": {
       "layout": "IPY_MODEL_9d212f5def25461f8bd31d9b298fb166",
       "style": "IPY_MODEL_10e70fbce15c4510aba5895c7deabf5f",
       "value": "100% 3/3 [00:12&lt;00:00,  4.09s/it]"
      }
     },
     "6b270a3ced6541abac9413d4b5d27a29": {
      "model_module": "@jupyter-widgets/controls",
      "model_module_version": "1.2.0",
      "model_name": "HTMLModel",
      "state": {
       "layout": "IPY_MODEL_def414ac450c447a9da43604967311ca",
       "style": "IPY_MODEL_bf723afeafeb400c9ccb179c87fe4ed0",
       "value": "100% 3/3 [00:05&lt;00:00,  1.71s/it]"
      }
     },
     "6b3eaf9f989540b78e1e5e81b6f903ad": {
      "model_module": "@jupyter-widgets/base",
      "model_module_version": "1.0.0",
      "model_name": "LayoutModel",
      "state": {}
     },
     "6c90f63d2c034beab9f457114e11a4f2": {
      "model_module": "@jupyter-widgets/base",
      "model_module_version": "1.0.0",
      "model_name": "LayoutModel",
      "state": {}
     },
     "6cf28cbd6117429e9b50ba564a359ee3": {
      "model_module": "@jupyter-widgets/controls",
      "model_module_version": "1.2.0",
      "model_name": "HBoxModel",
      "state": {
       "children": [
        "IPY_MODEL_2f7a42e2fe61445894013d0f48f8938e",
        "IPY_MODEL_99b5b085d01940c09c40cebb2529d522"
       ],
       "layout": "IPY_MODEL_b991fbb6f6d74c12be2a898543271d66"
      }
     },
     "6d3f47e99a634647a70c2e86b8ebaa2d": {
      "model_module": "@jupyter-widgets/controls",
      "model_module_version": "1.2.0",
      "model_name": "ProgressStyleModel",
      "state": {
       "description_width": ""
      }
     },
     "6e3a96096edf4433a60334d59ae7264c": {
      "model_module": "@jupyter-widgets/controls",
      "model_module_version": "1.2.0",
      "model_name": "DescriptionStyleModel",
      "state": {
       "description_width": ""
      }
     },
     "702fed7a633a4a93952c172749b7317c": {
      "model_module": "@jupyter-widgets/base",
      "model_module_version": "1.0.0",
      "model_name": "LayoutModel",
      "state": {}
     },
     "7065342739c74795a5dc87917eb3feda": {
      "model_module": "@jupyter-widgets/controls",
      "model_module_version": "1.2.0",
      "model_name": "DescriptionStyleModel",
      "state": {
       "description_width": ""
      }
     },
     "70a49eff2496449589670a11531e9808": {
      "model_module": "@jupyter-widgets/base",
      "model_module_version": "1.0.0",
      "model_name": "LayoutModel",
      "state": {}
     },
     "70c7d014e9c440a8abd0fd0ed439cfe6": {
      "model_module": "@jupyter-widgets/controls",
      "model_module_version": "1.2.0",
      "model_name": "HBoxModel",
      "state": {
       "children": [
        "IPY_MODEL_4d86c1671a00439f962c2969cf9e00fe",
        "IPY_MODEL_a80342063adc4e0bbeee225fb5db90b8"
       ],
       "layout": "IPY_MODEL_74b424072906480397319d17c04eee70"
      }
     },
     "70d1cc28fe51446487d82a49b664eeef": {
      "model_module": "@jupyter-widgets/controls",
      "model_module_version": "1.2.0",
      "model_name": "IntProgressModel",
      "state": {
       "bar_style": "danger",
       "description": "Epoch",
       "layout": "IPY_MODEL_6b3eaf9f989540b78e1e5e81b6f903ad",
       "max": 1,
       "style": "IPY_MODEL_f81066aac81f459789b96b280570fe53"
      }
     },
     "713e1b1840e248f08d3629cdaa8bd4a0": {
      "model_module": "@jupyter-widgets/controls",
      "model_module_version": "1.2.0",
      "model_name": "DescriptionStyleModel",
      "state": {
       "description_width": ""
      }
     },
     "728fb8d81dd7499abb3be72b98c93fc6": {
      "model_module": "@jupyter-widgets/controls",
      "model_module_version": "1.2.0",
      "model_name": "ProgressStyleModel",
      "state": {
       "description_width": ""
      }
     },
     "72cc9ddac0604c739b70e36405db329d": {
      "model_module": "@jupyter-widgets/controls",
      "model_module_version": "1.2.0",
      "model_name": "HTMLModel",
      "state": {
       "layout": "IPY_MODEL_87e2bed684ce4b4e9ee250d94f05cd59",
       "style": "IPY_MODEL_7065342739c74795a5dc87917eb3feda",
       "value": "  0% 0/1 [00:00&lt;?, ?it/s]"
      }
     },
     "74b424072906480397319d17c04eee70": {
      "model_module": "@jupyter-widgets/base",
      "model_module_version": "1.0.0",
      "model_name": "LayoutModel",
      "state": {}
     },
     "74ff75812ef54d628506cd56e39e4755": {
      "model_module": "@jupyter-widgets/base",
      "model_module_version": "1.0.0",
      "model_name": "LayoutModel",
      "state": {}
     },
     "76a1f79356b741219e86ecd02e3e2ccd": {
      "model_module": "@jupyter-widgets/controls",
      "model_module_version": "1.2.0",
      "model_name": "IntProgressModel",
      "state": {
       "bar_style": "success",
       "description": "Epoch",
       "layout": "IPY_MODEL_360f430bae624cc08d542dc759b5293c",
       "max": 3,
       "style": "IPY_MODEL_b5fa14f1cb0d4be380a979b939afab65",
       "value": 3
      }
     },
     "76f7798e0d414fb189e197a228bf169b": {
      "model_module": "@jupyter-widgets/controls",
      "model_module_version": "1.2.0",
      "model_name": "IntProgressModel",
      "state": {
       "bar_style": "danger",
       "description": "Epoch",
       "layout": "IPY_MODEL_f250d521cc4d4dac9ccf5c53c38d713a",
       "max": 1,
       "style": "IPY_MODEL_09da6f8b8ae1417b86ead8339cabf224"
      }
     },
     "7788230b9ca2463983b827ce3633f92e": {
      "model_module": "@jupyter-widgets/controls",
      "model_module_version": "1.2.0",
      "model_name": "HTMLModel",
      "state": {
       "layout": "IPY_MODEL_a62c3213d151422284ed3da027db9830",
       "style": "IPY_MODEL_637d89d9718a461da894db3864f8f502",
       "value": "100% 3/3 [00:12&lt;00:00,  4.18s/it]"
      }
     },
     "785eccad684640b6afdc5358f817ee71": {
      "model_module": "@jupyter-widgets/base",
      "model_module_version": "1.0.0",
      "model_name": "LayoutModel",
      "state": {}
     },
     "78d3c763b39f40369defcafef38c7b2b": {
      "model_module": "@jupyter-widgets/controls",
      "model_module_version": "1.2.0",
      "model_name": "DescriptionStyleModel",
      "state": {
       "description_width": ""
      }
     },
     "7bb6e11cb67e4b258b63b2ee28cb1226": {
      "model_module": "@jupyter-widgets/controls",
      "model_module_version": "1.2.0",
      "model_name": "HTMLModel",
      "state": {
       "layout": "IPY_MODEL_e777f05b28554579817c1b5d87a9be3f",
       "style": "IPY_MODEL_0d03019e72124b168ca6e925b701fd59",
       "value": "  0% 0/1 [00:00&lt;?, ?it/s]"
      }
     },
     "7d6a11bf465241de9f6ac60a14d62a82": {
      "model_module": "@jupyter-widgets/controls",
      "model_module_version": "1.2.0",
      "model_name": "HBoxModel",
      "state": {
       "children": [
        "IPY_MODEL_f029547e37b54623869ce84963db98e8",
        "IPY_MODEL_f01398943d7e468e9cc40f37435de2f1"
       ],
       "layout": "IPY_MODEL_042f06ec0e624342909ea157eeeb444b"
      }
     },
     "7dc142757c0547c8b258e73db04e8ee8": {
      "model_module": "@jupyter-widgets/base",
      "model_module_version": "1.0.0",
      "model_name": "LayoutModel",
      "state": {}
     },
     "7eacd37d483644a4846710e28d94b3a1": {
      "model_module": "@jupyter-widgets/controls",
      "model_module_version": "1.2.0",
      "model_name": "HBoxModel",
      "state": {
       "children": [
        "IPY_MODEL_09ef3bdc2628485e8ec29e05a661d047",
        "IPY_MODEL_b81fee5894894d768825ec23aea7f782"
       ],
       "layout": "IPY_MODEL_ff4e93e4cd4a4185a76d3cd5d6459c40"
      }
     },
     "816ee54b02c44ddbaf0dd0428321c71d": {
      "model_module": "@jupyter-widgets/base",
      "model_module_version": "1.0.0",
      "model_name": "LayoutModel",
      "state": {}
     },
     "822aa84659e04196ab99ada1d53321e8": {
      "model_module": "@jupyter-widgets/controls",
      "model_module_version": "1.2.0",
      "model_name": "IntProgressModel",
      "state": {
       "bar_style": "danger",
       "description": "Epoch",
       "layout": "IPY_MODEL_1d1c62e6748248c58fa42f90f465743c",
       "max": 1,
       "style": "IPY_MODEL_f63490bb6be542098337c4565be46619"
      }
     },
     "8237fb72b07d47169b0634f9a97c9e67": {
      "model_module": "@jupyter-widgets/base",
      "model_module_version": "1.0.0",
      "model_name": "LayoutModel",
      "state": {}
     },
     "83acaf9816d549699b45ce07da3a4cf6": {
      "model_module": "@jupyter-widgets/controls",
      "model_module_version": "1.2.0",
      "model_name": "IntProgressModel",
      "state": {
       "bar_style": "success",
       "description": "Epoch",
       "layout": "IPY_MODEL_eb733aded1954a86bd147b69ef489f8d",
       "max": 3,
       "style": "IPY_MODEL_2056003c825147c2a15f2bc0b800aa29",
       "value": 3
      }
     },
     "83f041ad09894f88880680a9d582149c": {
      "model_module": "@jupyter-widgets/controls",
      "model_module_version": "1.2.0",
      "model_name": "HTMLModel",
      "state": {
       "layout": "IPY_MODEL_785eccad684640b6afdc5358f817ee71",
       "style": "IPY_MODEL_b56ac39931f847439d8d1fd9a85b1d30",
       "value": "100% 1/1 [00:00&lt;00:00,  2.87it/s]"
      }
     },
     "853510c586be4e5cb9e8b13ef4b6b993": {
      "model_module": "@jupyter-widgets/base",
      "model_module_version": "1.0.0",
      "model_name": "LayoutModel",
      "state": {}
     },
     "86a8747b726d4601a70e585ebfa6be30": {
      "model_module": "@jupyter-widgets/controls",
      "model_module_version": "1.2.0",
      "model_name": "DescriptionStyleModel",
      "state": {
       "description_width": ""
      }
     },
     "87e2bed684ce4b4e9ee250d94f05cd59": {
      "model_module": "@jupyter-widgets/base",
      "model_module_version": "1.0.0",
      "model_name": "LayoutModel",
      "state": {}
     },
     "88568cd0849640339f80354df2913e42": {
      "model_module": "@jupyter-widgets/base",
      "model_module_version": "1.0.0",
      "model_name": "LayoutModel",
      "state": {}
     },
     "889308880acf4badad16647a3125356f": {
      "model_module": "@jupyter-widgets/controls",
      "model_module_version": "1.2.0",
      "model_name": "ProgressStyleModel",
      "state": {
       "description_width": ""
      }
     },
     "8903703c9e3d495680ccc117e1ff2679": {
      "model_module": "@jupyter-widgets/controls",
      "model_module_version": "1.2.0",
      "model_name": "HBoxModel",
      "state": {
       "children": [
        "IPY_MODEL_f84897b878f245d283f9ac43f2bfd364",
        "IPY_MODEL_7788230b9ca2463983b827ce3633f92e"
       ],
       "layout": "IPY_MODEL_54cd730462364b06aee5150f4f1a35e9"
      }
     },
     "890e61999c69401bbfb186ad572566ee": {
      "model_module": "@jupyter-widgets/controls",
      "model_module_version": "1.2.0",
      "model_name": "HTMLModel",
      "state": {
       "layout": "IPY_MODEL_4f9dcc9b18f44a4f9151e1840ad0de8b",
       "style": "IPY_MODEL_34c0ea15525f45dea9ba218fedb391c8",
       "value": "  0% 0/1 [00:00&lt;?, ?it/s]"
      }
     },
     "8918035431df4078aa37bec619ab2e89": {
      "model_module": "@jupyter-widgets/controls",
      "model_module_version": "1.2.0",
      "model_name": "ProgressStyleModel",
      "state": {
       "description_width": ""
      }
     },
     "89adb5ab5be749eab886dfc18127b157": {
      "model_module": "@jupyter-widgets/base",
      "model_module_version": "1.0.0",
      "model_name": "LayoutModel",
      "state": {}
     },
     "8a3fe0d653a0417d9761d7f672c94ba7": {
      "model_module": "@jupyter-widgets/base",
      "model_module_version": "1.0.0",
      "model_name": "LayoutModel",
      "state": {}
     },
     "8a73f49bfdc042ca8a9705d753a82765": {
      "model_module": "@jupyter-widgets/controls",
      "model_module_version": "1.2.0",
      "model_name": "IntProgressModel",
      "state": {
       "bar_style": "success",
       "description": "Epoch",
       "layout": "IPY_MODEL_387d64e1406643fd861b1830e049ce40",
       "max": 3,
       "style": "IPY_MODEL_11ecea61fdde4b77a2e6597900bc1822",
       "value": 3
      }
     },
     "8b15fd0ffbee4fb18dc9c76810f83b5b": {
      "model_module": "@jupyter-widgets/controls",
      "model_module_version": "1.2.0",
      "model_name": "HBoxModel",
      "state": {
       "children": [
        "IPY_MODEL_eddbb9d9e9ae4a6499875af42d4c33c1",
        "IPY_MODEL_399c60a1682b4035a59a4281f73c38a8"
       ],
       "layout": "IPY_MODEL_3f68bb86ffcb48dab86a3403ab4089af"
      }
     },
     "8b25e73c456b44a8a4339925af545d49": {
      "model_module": "@jupyter-widgets/controls",
      "model_module_version": "1.2.0",
      "model_name": "DescriptionStyleModel",
      "state": {
       "description_width": ""
      }
     },
     "8bc72bf135fc4e158c8c16a340b9baca": {
      "model_module": "@jupyter-widgets/controls",
      "model_module_version": "1.2.0",
      "model_name": "ProgressStyleModel",
      "state": {
       "description_width": ""
      }
     },
     "8c747a15ebeb4efda1c861b902a93313": {
      "model_module": "@jupyter-widgets/base",
      "model_module_version": "1.0.0",
      "model_name": "LayoutModel",
      "state": {}
     },
     "8e84941a7e3845cda8d1ffa039ef0b92": {
      "model_module": "@jupyter-widgets/controls",
      "model_module_version": "1.2.0",
      "model_name": "IntProgressModel",
      "state": {
       "bar_style": "success",
       "description": "Epoch",
       "layout": "IPY_MODEL_9c1b8bbd0c8241fab464803bfd9738eb",
       "max": 7,
       "style": "IPY_MODEL_d5dc4c2f6aa343e1b634fd882e0b8b79",
       "value": 7
      }
     },
     "8ea2d2b0b7d3475bb6eb8d86f4ffdb3e": {
      "model_module": "@jupyter-widgets/base",
      "model_module_version": "1.0.0",
      "model_name": "LayoutModel",
      "state": {}
     },
     "8ec0b09eca8c468d97b8a5b2875885a3": {
      "model_module": "@jupyter-widgets/base",
      "model_module_version": "1.0.0",
      "model_name": "LayoutModel",
      "state": {}
     },
     "9046c4e83706474e901423155bd8ce3a": {
      "model_module": "@jupyter-widgets/base",
      "model_module_version": "1.0.0",
      "model_name": "LayoutModel",
      "state": {}
     },
     "920d93311cf942df9e5531492972f4df": {
      "model_module": "@jupyter-widgets/controls",
      "model_module_version": "1.2.0",
      "model_name": "ProgressStyleModel",
      "state": {
       "description_width": ""
      }
     },
     "929f04afad944e7c8e164ed6f93af801": {
      "model_module": "@jupyter-widgets/base",
      "model_module_version": "1.0.0",
      "model_name": "LayoutModel",
      "state": {}
     },
     "935d3d241b3e4b59a59c27da3b4155f8": {
      "model_module": "@jupyter-widgets/base",
      "model_module_version": "1.0.0",
      "model_name": "LayoutModel",
      "state": {}
     },
     "93cda8d75e474d238c60d4e1fae33793": {
      "model_module": "@jupyter-widgets/controls",
      "model_module_version": "1.2.0",
      "model_name": "DescriptionStyleModel",
      "state": {
       "description_width": ""
      }
     },
     "942be8e5075344fea2f4a3e1192cf6b3": {
      "model_module": "@jupyter-widgets/controls",
      "model_module_version": "1.2.0",
      "model_name": "HBoxModel",
      "state": {
       "children": [
        "IPY_MODEL_baf1b972d88249278f2b3a720e67f648",
        "IPY_MODEL_abae11666533428881b23f6417eb9a20"
       ],
       "layout": "IPY_MODEL_495f560f4afb4458bb76fcc2d60316aa"
      }
     },
     "94af976cda3a443db28a35dd2605b480": {
      "model_module": "@jupyter-widgets/base",
      "model_module_version": "1.0.0",
      "model_name": "LayoutModel",
      "state": {}
     },
     "95b876396080428895ba4ff7267a2b18": {
      "model_module": "@jupyter-widgets/base",
      "model_module_version": "1.0.0",
      "model_name": "LayoutModel",
      "state": {}
     },
     "95ffe6ebe7804e9dadc6652171300379": {
      "model_module": "@jupyter-widgets/controls",
      "model_module_version": "1.2.0",
      "model_name": "HBoxModel",
      "state": {
       "children": [
        "IPY_MODEL_ab6a897d027c4371b1de07132c71d8ed",
        "IPY_MODEL_2a55ac1637c6446299bb596104240100"
       ],
       "layout": "IPY_MODEL_e4b8dd17e1cb4f8380958dedf6e3f07b"
      }
     },
     "983e96ed990a4406b6164638024ff999": {
      "model_module": "@jupyter-widgets/controls",
      "model_module_version": "1.2.0",
      "model_name": "HBoxModel",
      "state": {
       "children": [
        "IPY_MODEL_3a6bbdb2f9504a96909c6a56864a29ea",
        "IPY_MODEL_55130698e92d4e1e9453fb3c9e5c363a"
       ],
       "layout": "IPY_MODEL_a0af8e2a8f9c4029ae1e71ef3f8a1100"
      }
     },
     "986f43575a094611a23f52bdc9c7be86": {
      "model_module": "@jupyter-widgets/controls",
      "model_module_version": "1.2.0",
      "model_name": "IntProgressModel",
      "state": {
       "bar_style": "danger",
       "description": "Epoch",
       "layout": "IPY_MODEL_aa7fbd3cb9754952b63479c4cf8fb349",
       "max": 1,
       "style": "IPY_MODEL_ddb2f4a1e7544eaf9e2900f0d7733224"
      }
     },
     "98bb5e935dce4c11b97a5bb8ae8d0e27": {
      "model_module": "@jupyter-widgets/controls",
      "model_module_version": "1.2.0",
      "model_name": "DescriptionStyleModel",
      "state": {
       "description_width": ""
      }
     },
     "99867d6885084aaaa30220c1bed2cc71": {
      "model_module": "@jupyter-widgets/base",
      "model_module_version": "1.0.0",
      "model_name": "LayoutModel",
      "state": {}
     },
     "99b5b085d01940c09c40cebb2529d522": {
      "model_module": "@jupyter-widgets/controls",
      "model_module_version": "1.2.0",
      "model_name": "HTMLModel",
      "state": {
       "layout": "IPY_MODEL_aaadac59b026451b981cfe61e75d175c",
       "style": "IPY_MODEL_392e59cc8183445ea02c9d5c7bcb8dbd",
       "value": "100% 3/3 [00:04&lt;00:00,  1.65s/it]"
      }
     },
     "99d8717238ca4aad8a959009f9cefcd3": {
      "model_module": "@jupyter-widgets/controls",
      "model_module_version": "1.2.0",
      "model_name": "HTMLModel",
      "state": {
       "layout": "IPY_MODEL_cca4555a026a493ba86bd5a9dc32b754",
       "style": "IPY_MODEL_63501bc53c6b4176a9de5b32388ec395",
       "value": "100% 3/3 [00:05&lt;00:00,  1.79s/it]"
      }
     },
     "99e9ad2c75104b10993d3ba2611a8acb": {
      "model_module": "@jupyter-widgets/controls",
      "model_module_version": "1.2.0",
      "model_name": "HBoxModel",
      "state": {
       "children": [
        "IPY_MODEL_5c06bb84f7d9481f9077b5e6b1f56917",
        "IPY_MODEL_3f5a847a590f496d83b5eb1ab1354f15"
       ],
       "layout": "IPY_MODEL_74ff75812ef54d628506cd56e39e4755"
      }
     },
     "9c1b8bbd0c8241fab464803bfd9738eb": {
      "model_module": "@jupyter-widgets/base",
      "model_module_version": "1.0.0",
      "model_name": "LayoutModel",
      "state": {}
     },
     "9c281bfb12ad475297bc07876c7b8e28": {
      "model_module": "@jupyter-widgets/base",
      "model_module_version": "1.0.0",
      "model_name": "LayoutModel",
      "state": {}
     },
     "9d212f5def25461f8bd31d9b298fb166": {
      "model_module": "@jupyter-widgets/base",
      "model_module_version": "1.0.0",
      "model_name": "LayoutModel",
      "state": {}
     },
     "9d213c5cda0b4f77bd49da0017d6aac1": {
      "model_module": "@jupyter-widgets/controls",
      "model_module_version": "1.2.0",
      "model_name": "IntProgressModel",
      "state": {
       "bar_style": "danger",
       "description": "Epoch",
       "layout": "IPY_MODEL_a4b59a704cde45e2ad5c673105c0e266",
       "max": 1,
       "style": "IPY_MODEL_e9dd354925c44206bf6776699f43f00a"
      }
     },
     "9daf6c33a0cb4a5799fda01752150f6a": {
      "model_module": "@jupyter-widgets/controls",
      "model_module_version": "1.2.0",
      "model_name": "HBoxModel",
      "state": {
       "children": [
        "IPY_MODEL_a0ad68761820430e9d6a006cc6164c84",
        "IPY_MODEL_7bb6e11cb67e4b258b63b2ee28cb1226"
       ],
       "layout": "IPY_MODEL_0cb146dd7c46460387fb37599ff95f77"
      }
     },
     "9dd1f7c0977b4720baec71b0eff1da70": {
      "model_module": "@jupyter-widgets/controls",
      "model_module_version": "1.2.0",
      "model_name": "ProgressStyleModel",
      "state": {
       "description_width": ""
      }
     },
     "a0ad68761820430e9d6a006cc6164c84": {
      "model_module": "@jupyter-widgets/controls",
      "model_module_version": "1.2.0",
      "model_name": "IntProgressModel",
      "state": {
       "bar_style": "danger",
       "description": "Epoch",
       "layout": "IPY_MODEL_f86e55f33277479bb9032b2cb1329942",
       "max": 1,
       "style": "IPY_MODEL_d0b04c64f781485f83a5b34625f04684"
      }
     },
     "a0af8e2a8f9c4029ae1e71ef3f8a1100": {
      "model_module": "@jupyter-widgets/base",
      "model_module_version": "1.0.0",
      "model_name": "LayoutModel",
      "state": {}
     },
     "a202f8e459d0423a83f2588c3fb332a9": {
      "model_module": "@jupyter-widgets/base",
      "model_module_version": "1.0.0",
      "model_name": "LayoutModel",
      "state": {}
     },
     "a37855cb0f714697beb581dfe81fa1b6": {
      "model_module": "@jupyter-widgets/base",
      "model_module_version": "1.0.0",
      "model_name": "LayoutModel",
      "state": {}
     },
     "a4b59a704cde45e2ad5c673105c0e266": {
      "model_module": "@jupyter-widgets/base",
      "model_module_version": "1.0.0",
      "model_name": "LayoutModel",
      "state": {}
     },
     "a551e53fd6934d379db8a981517c7e6e": {
      "model_module": "@jupyter-widgets/controls",
      "model_module_version": "1.2.0",
      "model_name": "HBoxModel",
      "state": {
       "children": [
        "IPY_MODEL_60ae208bacd741dabafc0754fd805e88",
        "IPY_MODEL_3c7585dee4cb455daa96a25b5a2f4120"
       ],
       "layout": "IPY_MODEL_f7462b91cb194a4c867639994b7e75c9"
      }
     },
     "a60db1586224433e90044f6c5fe48957": {
      "model_module": "@jupyter-widgets/controls",
      "model_module_version": "1.2.0",
      "model_name": "IntProgressModel",
      "state": {
       "bar_style": "danger",
       "description": "Epoch",
       "layout": "IPY_MODEL_ff42bc7f482e48858d0fd7e2e5070421",
       "max": 1,
       "style": "IPY_MODEL_46ff5475975d4ccd9bb159e1126675db"
      }
     },
     "a62c3213d151422284ed3da027db9830": {
      "model_module": "@jupyter-widgets/base",
      "model_module_version": "1.0.0",
      "model_name": "LayoutModel",
      "state": {}
     },
     "a64be377126844dba9cb3b4686d4994b": {
      "model_module": "@jupyter-widgets/controls",
      "model_module_version": "1.2.0",
      "model_name": "DescriptionStyleModel",
      "state": {
       "description_width": ""
      }
     },
     "a80342063adc4e0bbeee225fb5db90b8": {
      "model_module": "@jupyter-widgets/controls",
      "model_module_version": "1.2.0",
      "model_name": "HTMLModel",
      "state": {
       "layout": "IPY_MODEL_e756e30564ef4aebac3200f48c592e8a",
       "style": "IPY_MODEL_3fd6bea2752a4fb7b990d0163c3bf3dd",
       "value": "  0% 0/1 [00:00&lt;?, ?it/s]"
      }
     },
     "a895f7c200a543a18ec46a5131431a05": {
      "model_module": "@jupyter-widgets/base",
      "model_module_version": "1.0.0",
      "model_name": "LayoutModel",
      "state": {}
     },
     "a9a0eafbb82d4c70a953822481705534": {
      "model_module": "@jupyter-widgets/base",
      "model_module_version": "1.0.0",
      "model_name": "LayoutModel",
      "state": {}
     },
     "aa7fbd3cb9754952b63479c4cf8fb349": {
      "model_module": "@jupyter-widgets/base",
      "model_module_version": "1.0.0",
      "model_name": "LayoutModel",
      "state": {}
     },
     "aaadac59b026451b981cfe61e75d175c": {
      "model_module": "@jupyter-widgets/base",
      "model_module_version": "1.0.0",
      "model_name": "LayoutModel",
      "state": {}
     },
     "ab6a897d027c4371b1de07132c71d8ed": {
      "model_module": "@jupyter-widgets/controls",
      "model_module_version": "1.2.0",
      "model_name": "IntProgressModel",
      "state": {
       "bar_style": "success",
       "description": "Epoch",
       "layout": "IPY_MODEL_d2040c45480f45ecb7fc438c7b294d41",
       "max": 1,
       "style": "IPY_MODEL_ca7cc7ff1485488ab6bfb2fb68589a8e",
       "value": 1
      }
     },
     "abae11666533428881b23f6417eb9a20": {
      "model_module": "@jupyter-widgets/controls",
      "model_module_version": "1.2.0",
      "model_name": "HTMLModel",
      "state": {
       "layout": "IPY_MODEL_929f04afad944e7c8e164ed6f93af801",
       "style": "IPY_MODEL_98bb5e935dce4c11b97a5bb8ae8d0e27",
       "value": "100% 3/3 [00:05&lt;00:00,  1.69s/it]"
      }
     },
     "ac02000c89b048b1bde76e82ea4416b2": {
      "model_module": "@jupyter-widgets/controls",
      "model_module_version": "1.2.0",
      "model_name": "IntProgressModel",
      "state": {
       "bar_style": "danger",
       "description": "Epoch",
       "layout": "IPY_MODEL_8a3fe0d653a0417d9761d7f672c94ba7",
       "max": 1,
       "style": "IPY_MODEL_6d3f47e99a634647a70c2e86b8ebaa2d"
      }
     },
     "ac8f05d1d0fd4923b6d76b969c106481": {
      "model_module": "@jupyter-widgets/controls",
      "model_module_version": "1.2.0",
      "model_name": "DescriptionStyleModel",
      "state": {
       "description_width": ""
      }
     },
     "ad939b0f3f854aeb9c0416cae455deac": {
      "model_module": "@jupyter-widgets/controls",
      "model_module_version": "1.2.0",
      "model_name": "DescriptionStyleModel",
      "state": {
       "description_width": ""
      }
     },
     "ae92c2f26c794ee4a73f2462fe94e3a0": {
      "model_module": "@jupyter-widgets/controls",
      "model_module_version": "1.2.0",
      "model_name": "ProgressStyleModel",
      "state": {
       "description_width": ""
      }
     },
     "aef0a1563fa846e18575d60f8e813f43": {
      "model_module": "@jupyter-widgets/base",
      "model_module_version": "1.0.0",
      "model_name": "LayoutModel",
      "state": {}
     },
     "af1936c6693e4136b7c7ea53382cbd16": {
      "model_module": "@jupyter-widgets/base",
      "model_module_version": "1.0.0",
      "model_name": "LayoutModel",
      "state": {}
     },
     "b0ff1906cf2444a485670f77a04a7a0c": {
      "model_module": "@jupyter-widgets/base",
      "model_module_version": "1.0.0",
      "model_name": "LayoutModel",
      "state": {}
     },
     "b18fe9d577a547b49901805c5903835b": {
      "model_module": "@jupyter-widgets/controls",
      "model_module_version": "1.2.0",
      "model_name": "DescriptionStyleModel",
      "state": {
       "description_width": ""
      }
     },
     "b1abe6aeb50b40f38306cd9bc35862c9": {
      "model_module": "@jupyter-widgets/base",
      "model_module_version": "1.0.0",
      "model_name": "LayoutModel",
      "state": {}
     },
     "b2066cb3e0824e13883086870a96e812": {
      "model_module": "@jupyter-widgets/controls",
      "model_module_version": "1.2.0",
      "model_name": "HTMLModel",
      "state": {
       "layout": "IPY_MODEL_94af976cda3a443db28a35dd2605b480",
       "style": "IPY_MODEL_b18fe9d577a547b49901805c5903835b",
       "value": "100% 3/3 [00:00&lt;00:00,  3.60it/s]"
      }
     },
     "b56ac39931f847439d8d1fd9a85b1d30": {
      "model_module": "@jupyter-widgets/controls",
      "model_module_version": "1.2.0",
      "model_name": "DescriptionStyleModel",
      "state": {
       "description_width": ""
      }
     },
     "b58a1e8efbef4b1ca2fbf6b24d028c7e": {
      "model_module": "@jupyter-widgets/controls",
      "model_module_version": "1.2.0",
      "model_name": "IntProgressModel",
      "state": {
       "bar_style": "danger",
       "description": "Epoch",
       "layout": "IPY_MODEL_95b876396080428895ba4ff7267a2b18",
       "max": 1,
       "style": "IPY_MODEL_5f346f4734e74beda681da1ebde62712"
      }
     },
     "b5fa14f1cb0d4be380a979b939afab65": {
      "model_module": "@jupyter-widgets/controls",
      "model_module_version": "1.2.0",
      "model_name": "ProgressStyleModel",
      "state": {
       "description_width": ""
      }
     },
     "b60f294ee5e146abb540f81dcc3e3159": {
      "model_module": "@jupyter-widgets/controls",
      "model_module_version": "1.2.0",
      "model_name": "ProgressStyleModel",
      "state": {
       "description_width": ""
      }
     },
     "b6df694a510c46699e63f10950ba112a": {
      "model_module": "@jupyter-widgets/base",
      "model_module_version": "1.0.0",
      "model_name": "LayoutModel",
      "state": {}
     },
     "b732cd1c612745e08ba468bbba8b1752": {
      "model_module": "@jupyter-widgets/controls",
      "model_module_version": "1.2.0",
      "model_name": "ProgressStyleModel",
      "state": {
       "description_width": ""
      }
     },
     "b7934ac3e7fc4351828c24db1bef2018": {
      "model_module": "@jupyter-widgets/base",
      "model_module_version": "1.0.0",
      "model_name": "LayoutModel",
      "state": {}
     },
     "b7b56cd634624d589421629f987db5f7": {
      "model_module": "@jupyter-widgets/base",
      "model_module_version": "1.0.0",
      "model_name": "LayoutModel",
      "state": {}
     },
     "b81fee5894894d768825ec23aea7f782": {
      "model_module": "@jupyter-widgets/controls",
      "model_module_version": "1.2.0",
      "model_name": "HTMLModel",
      "state": {
       "layout": "IPY_MODEL_ca899d2a00f64af688f32915189883b1",
       "style": "IPY_MODEL_fba0cd3e77764a0382f74dbf0c869df8",
       "value": "  0% 0/1 [00:00&lt;?, ?it/s]"
      }
     },
     "b991fbb6f6d74c12be2a898543271d66": {
      "model_module": "@jupyter-widgets/base",
      "model_module_version": "1.0.0",
      "model_name": "LayoutModel",
      "state": {}
     },
     "b9a435d424f14d8181fd19ca8308b562": {
      "model_module": "@jupyter-widgets/controls",
      "model_module_version": "1.2.0",
      "model_name": "DescriptionStyleModel",
      "state": {
       "description_width": ""
      }
     },
     "b9eeecd2ef7446c18c4867cdfb83cd2e": {
      "model_module": "@jupyter-widgets/base",
      "model_module_version": "1.0.0",
      "model_name": "LayoutModel",
      "state": {}
     },
     "baf1b972d88249278f2b3a720e67f648": {
      "model_module": "@jupyter-widgets/controls",
      "model_module_version": "1.2.0",
      "model_name": "IntProgressModel",
      "state": {
       "bar_style": "success",
       "description": "Epoch",
       "layout": "IPY_MODEL_9c281bfb12ad475297bc07876c7b8e28",
       "max": 3,
       "style": "IPY_MODEL_728fb8d81dd7499abb3be72b98c93fc6",
       "value": 3
      }
     },
     "bb9e4119ff9d4eecb4f9a8e44bfb8254": {
      "model_module": "@jupyter-widgets/controls",
      "model_module_version": "1.2.0",
      "model_name": "IntProgressModel",
      "state": {
       "bar_style": "danger",
       "description": "Epoch",
       "layout": "IPY_MODEL_0d306d3be0ac40979270418b2bd7a9f5",
       "max": 1,
       "style": "IPY_MODEL_8918035431df4078aa37bec619ab2e89"
      }
     },
     "bcc34668148745208768033a03064959": {
      "model_module": "@jupyter-widgets/controls",
      "model_module_version": "1.2.0",
      "model_name": "HBoxModel",
      "state": {
       "children": [
        "IPY_MODEL_3d0310374f8143ba80710e6e528a5ccb",
        "IPY_MODEL_bee00da287884833ae24a60409e686f3"
       ],
       "layout": "IPY_MODEL_853510c586be4e5cb9e8b13ef4b6b993"
      }
     },
     "bd2411ce86374c3ba72c882c5effd334": {
      "model_module": "@jupyter-widgets/controls",
      "model_module_version": "1.2.0",
      "model_name": "HBoxModel",
      "state": {
       "children": [
        "IPY_MODEL_70d1cc28fe51446487d82a49b664eeef",
        "IPY_MODEL_f2f94c4661bc42fa9c5712d99185569d"
       ],
       "layout": "IPY_MODEL_702fed7a633a4a93952c172749b7317c"
      }
     },
     "bd49ddda4481466f82af8859ce54d047": {
      "model_module": "@jupyter-widgets/controls",
      "model_module_version": "1.2.0",
      "model_name": "ProgressStyleModel",
      "state": {
       "description_width": ""
      }
     },
     "be0c86d2f73e4be4a70d3429d6d75cea": {
      "model_module": "@jupyter-widgets/controls",
      "model_module_version": "1.2.0",
      "model_name": "HBoxModel",
      "state": {
       "children": [
        "IPY_MODEL_31c0e1b15b5b4b43b14d46aef8aee350",
        "IPY_MODEL_99d8717238ca4aad8a959009f9cefcd3"
       ],
       "layout": "IPY_MODEL_a202f8e459d0423a83f2588c3fb332a9"
      }
     },
     "bee00da287884833ae24a60409e686f3": {
      "model_module": "@jupyter-widgets/controls",
      "model_module_version": "1.2.0",
      "model_name": "HTMLModel",
      "state": {
       "layout": "IPY_MODEL_548178fc4ae84555b694e222f6a4a57d",
       "style": "IPY_MODEL_f047d5e51bd74c448deb16dfeb170768",
       "value": "100% 7/7 [00:36&lt;00:00,  5.26s/it]"
      }
     },
     "bf723afeafeb400c9ccb179c87fe4ed0": {
      "model_module": "@jupyter-widgets/controls",
      "model_module_version": "1.2.0",
      "model_name": "DescriptionStyleModel",
      "state": {
       "description_width": ""
      }
     },
     "c43db33c9d2e4a18a59f636bec09c307": {
      "model_module": "@jupyter-widgets/controls",
      "model_module_version": "1.2.0",
      "model_name": "HTMLModel",
      "state": {
       "layout": "IPY_MODEL_27485d8fcf8846a4af2cb4272a464767",
       "style": "IPY_MODEL_a64be377126844dba9cb3b4686d4994b",
       "value": "  0% 0/1 [00:00&lt;?, ?it/s]"
      }
     },
     "c634c4b1967c4aedba91e052f40ba7ee": {
      "model_module": "@jupyter-widgets/base",
      "model_module_version": "1.0.0",
      "model_name": "LayoutModel",
      "state": {}
     },
     "ca7cc7ff1485488ab6bfb2fb68589a8e": {
      "model_module": "@jupyter-widgets/controls",
      "model_module_version": "1.2.0",
      "model_name": "ProgressStyleModel",
      "state": {
       "description_width": ""
      }
     },
     "ca899d2a00f64af688f32915189883b1": {
      "model_module": "@jupyter-widgets/base",
      "model_module_version": "1.0.0",
      "model_name": "LayoutModel",
      "state": {}
     },
     "cca4555a026a493ba86bd5a9dc32b754": {
      "model_module": "@jupyter-widgets/base",
      "model_module_version": "1.0.0",
      "model_name": "LayoutModel",
      "state": {}
     },
     "ccbb310d04144e81bb87dd2ab447bd6f": {
      "model_module": "@jupyter-widgets/controls",
      "model_module_version": "1.2.0",
      "model_name": "ProgressStyleModel",
      "state": {
       "description_width": ""
      }
     },
     "cdccac15ebe648999208eb5cdd8ce3c0": {
      "model_module": "@jupyter-widgets/controls",
      "model_module_version": "1.2.0",
      "model_name": "ProgressStyleModel",
      "state": {
       "description_width": ""
      }
     },
     "ce08d2420b464f14ab67223b048386df": {
      "model_module": "@jupyter-widgets/base",
      "model_module_version": "1.0.0",
      "model_name": "LayoutModel",
      "state": {}
     },
     "cf1ab97299774b779dc92295ed2841a0": {
      "model_module": "@jupyter-widgets/controls",
      "model_module_version": "1.2.0",
      "model_name": "HBoxModel",
      "state": {
       "children": [
        "IPY_MODEL_ac02000c89b048b1bde76e82ea4416b2",
        "IPY_MODEL_68e5ec8000e341c0961b716d2740e547"
       ],
       "layout": "IPY_MODEL_89adb5ab5be749eab886dfc18127b157"
      }
     },
     "d0abf4514e1348c4b2b1fb8aa0bcf0bb": {
      "model_module": "@jupyter-widgets/controls",
      "model_module_version": "1.2.0",
      "model_name": "IntProgressModel",
      "state": {
       "bar_style": "success",
       "description": "Epoch",
       "layout": "IPY_MODEL_b1abe6aeb50b40f38306cd9bc35862c9",
       "max": 3,
       "style": "IPY_MODEL_b732cd1c612745e08ba468bbba8b1752",
       "value": 3
      }
     },
     "d0b04c64f781485f83a5b34625f04684": {
      "model_module": "@jupyter-widgets/controls",
      "model_module_version": "1.2.0",
      "model_name": "ProgressStyleModel",
      "state": {
       "description_width": ""
      }
     },
     "d2040c45480f45ecb7fc438c7b294d41": {
      "model_module": "@jupyter-widgets/base",
      "model_module_version": "1.0.0",
      "model_name": "LayoutModel",
      "state": {}
     },
     "d351cbcd9685494a8f50ab4b979b693c": {
      "model_module": "@jupyter-widgets/controls",
      "model_module_version": "1.2.0",
      "model_name": "DescriptionStyleModel",
      "state": {
       "description_width": ""
      }
     },
     "d5c82f9378874116ba29555b0e91fec9": {
      "model_module": "@jupyter-widgets/controls",
      "model_module_version": "1.2.0",
      "model_name": "HBoxModel",
      "state": {
       "children": [
        "IPY_MODEL_bb9e4119ff9d4eecb4f9a8e44bfb8254",
        "IPY_MODEL_72cc9ddac0604c739b70e36405db329d"
       ],
       "layout": "IPY_MODEL_eea8f82253b54b9ebf20f64b92610a81"
      }
     },
     "d5dc4c2f6aa343e1b634fd882e0b8b79": {
      "model_module": "@jupyter-widgets/controls",
      "model_module_version": "1.2.0",
      "model_name": "ProgressStyleModel",
      "state": {
       "description_width": ""
      }
     },
     "d9777aea32f74b099555835d076365be": {
      "model_module": "@jupyter-widgets/controls",
      "model_module_version": "1.2.0",
      "model_name": "DescriptionStyleModel",
      "state": {
       "description_width": ""
      }
     },
     "ddb2f4a1e7544eaf9e2900f0d7733224": {
      "model_module": "@jupyter-widgets/controls",
      "model_module_version": "1.2.0",
      "model_name": "ProgressStyleModel",
      "state": {
       "description_width": ""
      }
     },
     "def414ac450c447a9da43604967311ca": {
      "model_module": "@jupyter-widgets/base",
      "model_module_version": "1.0.0",
      "model_name": "LayoutModel",
      "state": {}
     },
     "e4b8dd17e1cb4f8380958dedf6e3f07b": {
      "model_module": "@jupyter-widgets/base",
      "model_module_version": "1.0.0",
      "model_name": "LayoutModel",
      "state": {}
     },
     "e4ec392033ee475e941352d4f955d027": {
      "model_module": "@jupyter-widgets/controls",
      "model_module_version": "1.2.0",
      "model_name": "DescriptionStyleModel",
      "state": {
       "description_width": ""
      }
     },
     "e756e30564ef4aebac3200f48c592e8a": {
      "model_module": "@jupyter-widgets/base",
      "model_module_version": "1.0.0",
      "model_name": "LayoutModel",
      "state": {}
     },
     "e777f05b28554579817c1b5d87a9be3f": {
      "model_module": "@jupyter-widgets/base",
      "model_module_version": "1.0.0",
      "model_name": "LayoutModel",
      "state": {}
     },
     "e7ba12cd2f9f456c9e8dae5e2aecc992": {
      "model_module": "@jupyter-widgets/controls",
      "model_module_version": "1.2.0",
      "model_name": "HTMLModel",
      "state": {
       "layout": "IPY_MODEL_4940148c0be84bdab7de324bc35622c7",
       "style": "IPY_MODEL_78d3c763b39f40369defcafef38c7b2b",
       "value": "  0% 0/1 [00:00&lt;?, ?it/s]"
      }
     },
     "e9dd354925c44206bf6776699f43f00a": {
      "model_module": "@jupyter-widgets/controls",
      "model_module_version": "1.2.0",
      "model_name": "ProgressStyleModel",
      "state": {
       "description_width": ""
      }
     },
     "ea6b450bf8c443bc96abdc777b07a80e": {
      "model_module": "@jupyter-widgets/controls",
      "model_module_version": "1.2.0",
      "model_name": "DescriptionStyleModel",
      "state": {
       "description_width": ""
      }
     },
     "ea9669b9edb74f58b4d827b094f48beb": {
      "model_module": "@jupyter-widgets/base",
      "model_module_version": "1.0.0",
      "model_name": "LayoutModel",
      "state": {}
     },
     "eb733aded1954a86bd147b69ef489f8d": {
      "model_module": "@jupyter-widgets/base",
      "model_module_version": "1.0.0",
      "model_name": "LayoutModel",
      "state": {}
     },
     "ec308e387aaa4035954d6dab7c42973a": {
      "model_module": "@jupyter-widgets/controls",
      "model_module_version": "1.2.0",
      "model_name": "HTMLModel",
      "state": {
       "layout": "IPY_MODEL_935d3d241b3e4b59a59c27da3b4155f8",
       "style": "IPY_MODEL_3b0dce7dab18418298fd85633833c658",
       "value": "100% 7/7 [00:31&lt;00:00,  4.54s/it]"
      }
     },
     "edbd478d13a84b6281c5d4d1fc44fdca": {
      "model_module": "@jupyter-widgets/base",
      "model_module_version": "1.0.0",
      "model_name": "LayoutModel",
      "state": {}
     },
     "edd97f2b6cbb45fe9e6e8ea4067dd0dc": {
      "model_module": "@jupyter-widgets/controls",
      "model_module_version": "1.2.0",
      "model_name": "IntProgressModel",
      "state": {
       "bar_style": "success",
       "description": "Epoch",
       "layout": "IPY_MODEL_6783490ff76841c098632e9b4229849b",
       "max": 3,
       "style": "IPY_MODEL_3be8a2632ea041c4b992174324ebd734",
       "value": 3
      }
     },
     "edd9e94152c643f2ad9b9792ffaaaf44": {
      "model_module": "@jupyter-widgets/controls",
      "model_module_version": "1.2.0",
      "model_name": "DescriptionStyleModel",
      "state": {
       "description_width": ""
      }
     },
     "eddbb9d9e9ae4a6499875af42d4c33c1": {
      "model_module": "@jupyter-widgets/controls",
      "model_module_version": "1.2.0",
      "model_name": "IntProgressModel",
      "state": {
       "bar_style": "danger",
       "description": "Epoch",
       "layout": "IPY_MODEL_420e6c0585c244b9834475e77274d4aa",
       "max": 1,
       "style": "IPY_MODEL_f738d551cc114704aa3e4a429e49b8ae"
      }
     },
     "ee1642bccb6844af9747e9a076942c42": {
      "model_module": "@jupyter-widgets/base",
      "model_module_version": "1.0.0",
      "model_name": "LayoutModel",
      "state": {}
     },
     "eea8f82253b54b9ebf20f64b92610a81": {
      "model_module": "@jupyter-widgets/base",
      "model_module_version": "1.0.0",
      "model_name": "LayoutModel",
      "state": {}
     },
     "f01398943d7e468e9cc40f37435de2f1": {
      "model_module": "@jupyter-widgets/controls",
      "model_module_version": "1.2.0",
      "model_name": "HTMLModel",
      "state": {
       "layout": "IPY_MODEL_15e31294b6e2476da7188067911e9359",
       "style": "IPY_MODEL_575a12c4e72c422ab1ce26740bde4be4",
       "value": "  0% 0/1 [00:00&lt;?, ?it/s]"
      }
     },
     "f029547e37b54623869ce84963db98e8": {
      "model_module": "@jupyter-widgets/controls",
      "model_module_version": "1.2.0",
      "model_name": "IntProgressModel",
      "state": {
       "bar_style": "danger",
       "description": "Epoch",
       "layout": "IPY_MODEL_70a49eff2496449589670a11531e9808",
       "max": 1,
       "style": "IPY_MODEL_f5d49457590544728c33c42cbd6532fd"
      }
     },
     "f047d5e51bd74c448deb16dfeb170768": {
      "model_module": "@jupyter-widgets/controls",
      "model_module_version": "1.2.0",
      "model_name": "DescriptionStyleModel",
      "state": {
       "description_width": ""
      }
     },
     "f1cc6b57d6c04ab29a55a909f63bfbb4": {
      "model_module": "@jupyter-widgets/controls",
      "model_module_version": "1.2.0",
      "model_name": "HTMLModel",
      "state": {
       "layout": "IPY_MODEL_0739ed111e8e4a11929e3da433c4fc24",
       "style": "IPY_MODEL_095f2034c6cd46d0859db9c6f1098366",
       "value": "  0% 0/1 [00:00&lt;?, ?it/s]"
      }
     },
     "f1d945bae0534849b4ba0fa92a753844": {
      "model_module": "@jupyter-widgets/controls",
      "model_module_version": "1.2.0",
      "model_name": "HBoxModel",
      "state": {
       "children": [
        "IPY_MODEL_a60db1586224433e90044f6c5fe48957",
        "IPY_MODEL_890e61999c69401bbfb186ad572566ee"
       ],
       "layout": "IPY_MODEL_c634c4b1967c4aedba91e052f40ba7ee"
      }
     },
     "f250d521cc4d4dac9ccf5c53c38d713a": {
      "model_module": "@jupyter-widgets/base",
      "model_module_version": "1.0.0",
      "model_name": "LayoutModel",
      "state": {}
     },
     "f2f94c4661bc42fa9c5712d99185569d": {
      "model_module": "@jupyter-widgets/controls",
      "model_module_version": "1.2.0",
      "model_name": "HTMLModel",
      "state": {
       "layout": "IPY_MODEL_52b3817f06cf430d84871525fd9f02e8",
       "style": "IPY_MODEL_0aa0e6b138be4405b4a7c64a76816978",
       "value": "  0% 0/1 [00:00&lt;?, ?it/s]"
      }
     },
     "f317733cfacc4d3099fe90dd6b8f51d7": {
      "model_module": "@jupyter-widgets/controls",
      "model_module_version": "1.2.0",
      "model_name": "HTMLModel",
      "state": {
       "layout": "IPY_MODEL_4f2290e7405d44a085c1a962840ef429",
       "style": "IPY_MODEL_713e1b1840e248f08d3629cdaa8bd4a0",
       "value": "100% 3/3 [00:13&lt;00:00,  4.57s/it]"
      }
     },
     "f3857217ff4a48f5888b9c550e44fb8a": {
      "model_module": "@jupyter-widgets/base",
      "model_module_version": "1.0.0",
      "model_name": "LayoutModel",
      "state": {}
     },
     "f3fe763491004105beb9c320f0e6a67c": {
      "model_module": "@jupyter-widgets/controls",
      "model_module_version": "1.2.0",
      "model_name": "IntProgressModel",
      "state": {
       "bar_style": "danger",
       "description": "Epoch",
       "layout": "IPY_MODEL_b7b56cd634624d589421629f987db5f7",
       "max": 1,
       "style": "IPY_MODEL_fc648306af8c4c59aebe762e0f2ed0f3"
      }
     },
     "f41980e2af734c2da01ede24ef6c032a": {
      "model_module": "@jupyter-widgets/base",
      "model_module_version": "1.0.0",
      "model_name": "LayoutModel",
      "state": {}
     },
     "f4ef818f3573425ea41693bf4fecc3a0": {
      "model_module": "@jupyter-widgets/controls",
      "model_module_version": "1.2.0",
      "model_name": "HBoxModel",
      "state": {
       "children": [
        "IPY_MODEL_76a1f79356b741219e86ecd02e3e2ccd",
        "IPY_MODEL_131fdc5c9e5c453bb505712e4bfc9c2f"
       ],
       "layout": "IPY_MODEL_b7934ac3e7fc4351828c24db1bef2018"
      }
     },
     "f564fd8f4f724fd29de491d777c247d9": {
      "model_module": "@jupyter-widgets/controls",
      "model_module_version": "1.2.0",
      "model_name": "ProgressStyleModel",
      "state": {
       "description_width": ""
      }
     },
     "f5d49457590544728c33c42cbd6532fd": {
      "model_module": "@jupyter-widgets/controls",
      "model_module_version": "1.2.0",
      "model_name": "ProgressStyleModel",
      "state": {
       "description_width": ""
      }
     },
     "f63490bb6be542098337c4565be46619": {
      "model_module": "@jupyter-widgets/controls",
      "model_module_version": "1.2.0",
      "model_name": "ProgressStyleModel",
      "state": {
       "description_width": ""
      }
     },
     "f738d551cc114704aa3e4a429e49b8ae": {
      "model_module": "@jupyter-widgets/controls",
      "model_module_version": "1.2.0",
      "model_name": "ProgressStyleModel",
      "state": {
       "description_width": ""
      }
     },
     "f7462b91cb194a4c867639994b7e75c9": {
      "model_module": "@jupyter-widgets/base",
      "model_module_version": "1.0.0",
      "model_name": "LayoutModel",
      "state": {}
     },
     "f81066aac81f459789b96b280570fe53": {
      "model_module": "@jupyter-widgets/controls",
      "model_module_version": "1.2.0",
      "model_name": "ProgressStyleModel",
      "state": {
       "description_width": ""
      }
     },
     "f84897b878f245d283f9ac43f2bfd364": {
      "model_module": "@jupyter-widgets/controls",
      "model_module_version": "1.2.0",
      "model_name": "IntProgressModel",
      "state": {
       "bar_style": "success",
       "description": "Epoch",
       "layout": "IPY_MODEL_f41980e2af734c2da01ede24ef6c032a",
       "max": 3,
       "style": "IPY_MODEL_1e169ccc84804425846607ace2f091ff",
       "value": 3
      }
     },
     "f86e55f33277479bb9032b2cb1329942": {
      "model_module": "@jupyter-widgets/base",
      "model_module_version": "1.0.0",
      "model_name": "LayoutModel",
      "state": {}
     },
     "fba0cd3e77764a0382f74dbf0c869df8": {
      "model_module": "@jupyter-widgets/controls",
      "model_module_version": "1.2.0",
      "model_name": "DescriptionStyleModel",
      "state": {
       "description_width": ""
      }
     },
     "fc41e4a7604b49faae5cb89abde6dca4": {
      "model_module": "@jupyter-widgets/controls",
      "model_module_version": "1.2.0",
      "model_name": "HTMLModel",
      "state": {
       "layout": "IPY_MODEL_531b817363ae4ab2a828d38452234bc9",
       "style": "IPY_MODEL_ad939b0f3f854aeb9c0416cae455deac",
       "value": "100% 3/3 [00:04&lt;00:00,  1.64s/it]"
      }
     },
     "fc648306af8c4c59aebe762e0f2ed0f3": {
      "model_module": "@jupyter-widgets/controls",
      "model_module_version": "1.2.0",
      "model_name": "ProgressStyleModel",
      "state": {
       "description_width": ""
      }
     },
     "fc7f7c1c7f9f4febaef8ce867da484b6": {
      "model_module": "@jupyter-widgets/base",
      "model_module_version": "1.0.0",
      "model_name": "LayoutModel",
      "state": {}
     },
     "ff42bc7f482e48858d0fd7e2e5070421": {
      "model_module": "@jupyter-widgets/base",
      "model_module_version": "1.0.0",
      "model_name": "LayoutModel",
      "state": {}
     },
     "ff4e93e4cd4a4185a76d3cd5d6459c40": {
      "model_module": "@jupyter-widgets/base",
      "model_module_version": "1.0.0",
      "model_name": "LayoutModel",
      "state": {}
     }
    },
    "version_major": 2,
    "version_minor": 0
   }
  }
 },
 "nbformat": 4,
 "nbformat_minor": 2
}
